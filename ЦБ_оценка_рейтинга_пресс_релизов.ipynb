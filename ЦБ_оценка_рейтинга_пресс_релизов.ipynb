{
  "cells": [
    {
      "cell_type": "code",
      "execution_count": null,
      "metadata": {
        "colab": {
          "base_uri": "https://localhost:8080/"
        },
        "id": "KnDaWYBFKkl7",
        "outputId": "4095a9a7-85fa-440d-d86e-d1db52fd2fe4"
      },
      "outputs": [
        {
          "output_type": "stream",
          "name": "stdout",
          "text": [
            "Collecting scikit-multilearn\n",
            "  Downloading scikit_multilearn-0.2.0-py3-none-any.whl (89 kB)\n",
            "\u001b[2K     \u001b[90m━━━━━━━━━━━━━━━━━━━━━━━━━━━━━━━━━━━━━━━━\u001b[0m \u001b[32m89.4/89.4 kB\u001b[0m \u001b[31m1.5 MB/s\u001b[0m eta \u001b[36m0:00:00\u001b[0m\n",
            "\u001b[?25hInstalling collected packages: scikit-multilearn\n",
            "Successfully installed scikit-multilearn-0.2.0\n"
          ]
        }
      ],
      "source": [
        "!pip install scikit-multilearn"
      ]
    },
    {
      "cell_type": "code",
      "execution_count": null,
      "metadata": {
        "id": "Bp5xOimbxtfA"
      },
      "outputs": [],
      "source": [
        "import json\n",
        "import numpy as np\n",
        "import pandas as pd\n",
        "from sklearn.utils import class_weight\n",
        "from sklearn.metrics import classification_report, precision_recall_fscore_support, accuracy_score\n",
        "from skmultilearn.model_selection import IterativeStratification, iterative_train_test_split"
      ]
    },
    {
      "cell_type": "code",
      "execution_count": null,
      "metadata": {
        "id": "VjVj80rcy4lr"
      },
      "outputs": [],
      "source": [
        "!!wget -nc -O CRA_train_1200.7z \"https://docs.google.com/uc?export=download&id=13oPXaBZmDL1kJFcK-KR4_K-VAKSX7Q3d\"\n",
        "!7z x CRA_train_1200.7z  -aos"
      ]
    },
    {
      "cell_type": "code",
      "execution_count": null,
      "metadata": {
        "id": "2vcM2IYv8uXD"
      },
      "outputs": [],
      "source": [
        "maxSequenceLength = 256"
      ]
    },
    {
      "cell_type": "code",
      "execution_count": null,
      "metadata": {
        "id": "vfyDPY7cyD6G"
      },
      "outputs": [],
      "source": [
        "df = pd.read_csv('CRA_train_1200.csv')"
      ]
    },
    {
      "cell_type": "code",
      "execution_count": null,
      "metadata": {
        "colab": {
          "base_uri": "https://localhost:8080/",
          "height": 424
        },
        "id": "93O12wJbyI_h",
        "outputId": "ede2ef20-4020-4a59-da7a-29cfacb27914"
      },
      "outputs": [
        {
          "data": {
            "text/html": [
              "\n",
              "  <div id=\"df-cff1a4c5-c1da-460e-b9b6-122886c06ec5\" class=\"colab-df-container\">\n",
              "    <div>\n",
              "<style scoped>\n",
              "    .dataframe tbody tr th:only-of-type {\n",
              "        vertical-align: middle;\n",
              "    }\n",
              "\n",
              "    .dataframe tbody tr th {\n",
              "        vertical-align: top;\n",
              "    }\n",
              "\n",
              "    .dataframe thead th {\n",
              "        text-align: right;\n",
              "    }\n",
              "</style>\n",
              "<table border=\"1\" class=\"dataframe\">\n",
              "  <thead>\n",
              "    <tr style=\"text-align: right;\">\n",
              "      <th></th>\n",
              "      <th>pr_txt</th>\n",
              "      <th>Категория</th>\n",
              "      <th>Уровень рейтинга</th>\n",
              "    </tr>\n",
              "  </thead>\n",
              "  <tbody>\n",
              "    <tr>\n",
              "      <th>0</th>\n",
              "      <td>Повышение кредитного рейтинга  Акционерного об...</td>\n",
              "      <td>A</td>\n",
              "      <td>A</td>\n",
              "    </tr>\n",
              "    <tr>\n",
              "      <th>1</th>\n",
              "      <td>«Эксперт РА» подтвердил кредитный рейтинг комп...</td>\n",
              "      <td>BB</td>\n",
              "      <td>BB</td>\n",
              "    </tr>\n",
              "    <tr>\n",
              "      <th>2</th>\n",
              "      <td>НКР повысило кредитный рейтинг ООО \"ОТЭКО-Порт...</td>\n",
              "      <td>A</td>\n",
              "      <td>A</td>\n",
              "    </tr>\n",
              "    <tr>\n",
              "      <th>3</th>\n",
              "      <td>«Эксперт РА» присвоил кредитный рейтинг ПАО «Ф...</td>\n",
              "      <td>AAA</td>\n",
              "      <td>AAA</td>\n",
              "    </tr>\n",
              "    <tr>\n",
              "      <th>4</th>\n",
              "      <td>29 марта 2023 г. Ведущий рейтинговый аналитик ...</td>\n",
              "      <td>BBB</td>\n",
              "      <td>BBB</td>\n",
              "    </tr>\n",
              "    <tr>\n",
              "      <th>...</th>\n",
              "      <td>...</td>\n",
              "      <td>...</td>\n",
              "      <td>...</td>\n",
              "    </tr>\n",
              "    <tr>\n",
              "      <th>1195</th>\n",
              "      <td>«Эксперт РА» подтвердил рейтинг компании «Татн...</td>\n",
              "      <td>AAA</td>\n",
              "      <td>AAA</td>\n",
              "    </tr>\n",
              "    <tr>\n",
              "      <th>1196</th>\n",
              "      <td>«Эксперт РА» понизил рейтинг компании «Инвестг...</td>\n",
              "      <td>BB</td>\n",
              "      <td>BB</td>\n",
              "    </tr>\n",
              "    <tr>\n",
              "      <th>1197</th>\n",
              "      <td>АКРА подтвердило ПАО «КАМАЗ» кредитный рейтинг...</td>\n",
              "      <td>A</td>\n",
              "      <td>A+</td>\n",
              "    </tr>\n",
              "    <tr>\n",
              "      <th>1198</th>\n",
              "      <td>АКРА подтвердило кредитный рейтинг ФГУП «Почта...</td>\n",
              "      <td>AAA</td>\n",
              "      <td>AAA</td>\n",
              "    </tr>\n",
              "    <tr>\n",
              "      <th>1199</th>\n",
              "      <td>«Эксперт РА» подтвердил рейтинг компании «СИБИ...</td>\n",
              "      <td>BB</td>\n",
              "      <td>BB+</td>\n",
              "    </tr>\n",
              "  </tbody>\n",
              "</table>\n",
              "<p>1200 rows × 3 columns</p>\n",
              "</div>\n",
              "    <div class=\"colab-df-buttons\">\n",
              "\n",
              "  <div class=\"colab-df-container\">\n",
              "    <button class=\"colab-df-convert\" onclick=\"convertToInteractive('df-cff1a4c5-c1da-460e-b9b6-122886c06ec5')\"\n",
              "            title=\"Convert this dataframe to an interactive table.\"\n",
              "            style=\"display:none;\">\n",
              "\n",
              "  <svg xmlns=\"http://www.w3.org/2000/svg\" height=\"24px\" viewBox=\"0 -960 960 960\">\n",
              "    <path d=\"M120-120v-720h720v720H120Zm60-500h600v-160H180v160Zm220 220h160v-160H400v160Zm0 220h160v-160H400v160ZM180-400h160v-160H180v160Zm440 0h160v-160H620v160ZM180-180h160v-160H180v160Zm440 0h160v-160H620v160Z\"/>\n",
              "  </svg>\n",
              "    </button>\n",
              "\n",
              "  <style>\n",
              "    .colab-df-container {\n",
              "      display:flex;\n",
              "      gap: 12px;\n",
              "    }\n",
              "\n",
              "    .colab-df-convert {\n",
              "      background-color: #E8F0FE;\n",
              "      border: none;\n",
              "      border-radius: 50%;\n",
              "      cursor: pointer;\n",
              "      display: none;\n",
              "      fill: #1967D2;\n",
              "      height: 32px;\n",
              "      padding: 0 0 0 0;\n",
              "      width: 32px;\n",
              "    }\n",
              "\n",
              "    .colab-df-convert:hover {\n",
              "      background-color: #E2EBFA;\n",
              "      box-shadow: 0px 1px 2px rgba(60, 64, 67, 0.3), 0px 1px 3px 1px rgba(60, 64, 67, 0.15);\n",
              "      fill: #174EA6;\n",
              "    }\n",
              "\n",
              "    .colab-df-buttons div {\n",
              "      margin-bottom: 4px;\n",
              "    }\n",
              "\n",
              "    [theme=dark] .colab-df-convert {\n",
              "      background-color: #3B4455;\n",
              "      fill: #D2E3FC;\n",
              "    }\n",
              "\n",
              "    [theme=dark] .colab-df-convert:hover {\n",
              "      background-color: #434B5C;\n",
              "      box-shadow: 0px 1px 3px 1px rgba(0, 0, 0, 0.15);\n",
              "      filter: drop-shadow(0px 1px 2px rgba(0, 0, 0, 0.3));\n",
              "      fill: #FFFFFF;\n",
              "    }\n",
              "  </style>\n",
              "\n",
              "    <script>\n",
              "      const buttonEl =\n",
              "        document.querySelector('#df-cff1a4c5-c1da-460e-b9b6-122886c06ec5 button.colab-df-convert');\n",
              "      buttonEl.style.display =\n",
              "        google.colab.kernel.accessAllowed ? 'block' : 'none';\n",
              "\n",
              "      async function convertToInteractive(key) {\n",
              "        const element = document.querySelector('#df-cff1a4c5-c1da-460e-b9b6-122886c06ec5');\n",
              "        const dataTable =\n",
              "          await google.colab.kernel.invokeFunction('convertToInteractive',\n",
              "                                                    [key], {});\n",
              "        if (!dataTable) return;\n",
              "\n",
              "        const docLinkHtml = 'Like what you see? Visit the ' +\n",
              "          '<a target=\"_blank\" href=https://colab.research.google.com/notebooks/data_table.ipynb>data table notebook</a>'\n",
              "          + ' to learn more about interactive tables.';\n",
              "        element.innerHTML = '';\n",
              "        dataTable['output_type'] = 'display_data';\n",
              "        await google.colab.output.renderOutput(dataTable, element);\n",
              "        const docLink = document.createElement('div');\n",
              "        docLink.innerHTML = docLinkHtml;\n",
              "        element.appendChild(docLink);\n",
              "      }\n",
              "    </script>\n",
              "  </div>\n",
              "\n",
              "\n",
              "<div id=\"df-ccd68944-5feb-4e12-832d-ae8b054a2016\">\n",
              "  <button class=\"colab-df-quickchart\" onclick=\"quickchart('df-ccd68944-5feb-4e12-832d-ae8b054a2016')\"\n",
              "            title=\"Suggest charts.\"\n",
              "            style=\"display:none;\">\n",
              "\n",
              "<svg xmlns=\"http://www.w3.org/2000/svg\" height=\"24px\"viewBox=\"0 0 24 24\"\n",
              "     width=\"24px\">\n",
              "    <g>\n",
              "        <path d=\"M19 3H5c-1.1 0-2 .9-2 2v14c0 1.1.9 2 2 2h14c1.1 0 2-.9 2-2V5c0-1.1-.9-2-2-2zM9 17H7v-7h2v7zm4 0h-2V7h2v10zm4 0h-2v-4h2v4z\"/>\n",
              "    </g>\n",
              "</svg>\n",
              "  </button>\n",
              "\n",
              "<style>\n",
              "  .colab-df-quickchart {\n",
              "      --bg-color: #E8F0FE;\n",
              "      --fill-color: #1967D2;\n",
              "      --hover-bg-color: #E2EBFA;\n",
              "      --hover-fill-color: #174EA6;\n",
              "      --disabled-fill-color: #AAA;\n",
              "      --disabled-bg-color: #DDD;\n",
              "  }\n",
              "\n",
              "  [theme=dark] .colab-df-quickchart {\n",
              "      --bg-color: #3B4455;\n",
              "      --fill-color: #D2E3FC;\n",
              "      --hover-bg-color: #434B5C;\n",
              "      --hover-fill-color: #FFFFFF;\n",
              "      --disabled-bg-color: #3B4455;\n",
              "      --disabled-fill-color: #666;\n",
              "  }\n",
              "\n",
              "  .colab-df-quickchart {\n",
              "    background-color: var(--bg-color);\n",
              "    border: none;\n",
              "    border-radius: 50%;\n",
              "    cursor: pointer;\n",
              "    display: none;\n",
              "    fill: var(--fill-color);\n",
              "    height: 32px;\n",
              "    padding: 0;\n",
              "    width: 32px;\n",
              "  }\n",
              "\n",
              "  .colab-df-quickchart:hover {\n",
              "    background-color: var(--hover-bg-color);\n",
              "    box-shadow: 0 1px 2px rgba(60, 64, 67, 0.3), 0 1px 3px 1px rgba(60, 64, 67, 0.15);\n",
              "    fill: var(--button-hover-fill-color);\n",
              "  }\n",
              "\n",
              "  .colab-df-quickchart-complete:disabled,\n",
              "  .colab-df-quickchart-complete:disabled:hover {\n",
              "    background-color: var(--disabled-bg-color);\n",
              "    fill: var(--disabled-fill-color);\n",
              "    box-shadow: none;\n",
              "  }\n",
              "\n",
              "  .colab-df-spinner {\n",
              "    border: 2px solid var(--fill-color);\n",
              "    border-color: transparent;\n",
              "    border-bottom-color: var(--fill-color);\n",
              "    animation:\n",
              "      spin 1s steps(1) infinite;\n",
              "  }\n",
              "\n",
              "  @keyframes spin {\n",
              "    0% {\n",
              "      border-color: transparent;\n",
              "      border-bottom-color: var(--fill-color);\n",
              "      border-left-color: var(--fill-color);\n",
              "    }\n",
              "    20% {\n",
              "      border-color: transparent;\n",
              "      border-left-color: var(--fill-color);\n",
              "      border-top-color: var(--fill-color);\n",
              "    }\n",
              "    30% {\n",
              "      border-color: transparent;\n",
              "      border-left-color: var(--fill-color);\n",
              "      border-top-color: var(--fill-color);\n",
              "      border-right-color: var(--fill-color);\n",
              "    }\n",
              "    40% {\n",
              "      border-color: transparent;\n",
              "      border-right-color: var(--fill-color);\n",
              "      border-top-color: var(--fill-color);\n",
              "    }\n",
              "    60% {\n",
              "      border-color: transparent;\n",
              "      border-right-color: var(--fill-color);\n",
              "    }\n",
              "    80% {\n",
              "      border-color: transparent;\n",
              "      border-right-color: var(--fill-color);\n",
              "      border-bottom-color: var(--fill-color);\n",
              "    }\n",
              "    90% {\n",
              "      border-color: transparent;\n",
              "      border-bottom-color: var(--fill-color);\n",
              "    }\n",
              "  }\n",
              "</style>\n",
              "\n",
              "  <script>\n",
              "    async function quickchart(key) {\n",
              "      const quickchartButtonEl =\n",
              "        document.querySelector('#' + key + ' button');\n",
              "      quickchartButtonEl.disabled = true;  // To prevent multiple clicks.\n",
              "      quickchartButtonEl.classList.add('colab-df-spinner');\n",
              "      try {\n",
              "        const charts = await google.colab.kernel.invokeFunction(\n",
              "            'suggestCharts', [key], {});\n",
              "      } catch (error) {\n",
              "        console.error('Error during call to suggestCharts:', error);\n",
              "      }\n",
              "      quickchartButtonEl.classList.remove('colab-df-spinner');\n",
              "      quickchartButtonEl.classList.add('colab-df-quickchart-complete');\n",
              "    }\n",
              "    (() => {\n",
              "      let quickchartButtonEl =\n",
              "        document.querySelector('#df-ccd68944-5feb-4e12-832d-ae8b054a2016 button');\n",
              "      quickchartButtonEl.style.display =\n",
              "        google.colab.kernel.accessAllowed ? 'block' : 'none';\n",
              "    })();\n",
              "  </script>\n",
              "</div>\n",
              "    </div>\n",
              "  </div>\n"
            ],
            "text/plain": [
              "                                                 pr_txt Категория  \\\n",
              "0     Повышение кредитного рейтинга  Акционерного об...         A   \n",
              "1     «Эксперт РА» подтвердил кредитный рейтинг комп...        BB   \n",
              "2     НКР повысило кредитный рейтинг ООО \"ОТЭКО-Порт...         A   \n",
              "3     «Эксперт РА» присвоил кредитный рейтинг ПАО «Ф...       AAA   \n",
              "4     29 марта 2023 г. Ведущий рейтинговый аналитик ...       BBB   \n",
              "...                                                 ...       ...   \n",
              "1195  «Эксперт РА» подтвердил рейтинг компании «Татн...       AAA   \n",
              "1196  «Эксперт РА» понизил рейтинг компании «Инвестг...        BB   \n",
              "1197  АКРА подтвердило ПАО «КАМАЗ» кредитный рейтинг...         A   \n",
              "1198  АКРА подтвердило кредитный рейтинг ФГУП «Почта...       AAA   \n",
              "1199  «Эксперт РА» подтвердил рейтинг компании «СИБИ...        BB   \n",
              "\n",
              "     Уровень рейтинга  \n",
              "0                   A  \n",
              "1                  BB  \n",
              "2                   A  \n",
              "3                 AAA  \n",
              "4                 BBB  \n",
              "...               ...  \n",
              "1195              AAA  \n",
              "1196               BB  \n",
              "1197               A+  \n",
              "1198              AAA  \n",
              "1199              BB+  \n",
              "\n",
              "[1200 rows x 3 columns]"
            ]
          },
          "execution_count": 20,
          "metadata": {},
          "output_type": "execute_result"
        }
      ],
      "source": [
        "df"
      ]
    },
    {
      "cell_type": "code",
      "execution_count": null,
      "metadata": {
        "id": "cKeSSBVXJ9Wz"
      },
      "outputs": [],
      "source": [
        "txt_lengths = [len(t.split()) for t in df['pr_txt']]\n",
        "pd.Series(txt_lengths).hist(bins=25)"
      ]
    },
    {
      "cell_type": "code",
      "execution_count": null,
      "metadata": {
        "colab": {
          "base_uri": "https://localhost:8080/"
        },
        "id": "bEB0LD8JKOjv",
        "outputId": "f443b0c0-2f82-4158-e643-c32bbe7f2d34"
      },
      "outputs": [
        {
          "data": {
            "text/plain": [
              "count    1200.000000\n",
              "mean     1232.509167\n",
              "std       323.565958\n",
              "min       465.000000\n",
              "25%      1014.000000\n",
              "50%      1230.000000\n",
              "75%      1454.000000\n",
              "max      2827.000000\n",
              "dtype: float64"
            ]
          },
          "execution_count": 22,
          "metadata": {},
          "output_type": "execute_result"
        }
      ],
      "source": [
        "pd.Series(txt_lengths).describe()"
      ]
    },
    {
      "cell_type": "code",
      "execution_count": null,
      "metadata": {
        "id": "aoAuPoTJ5TCb"
      },
      "outputs": [],
      "source": [
        "for index, row in df.iterrows():\n",
        "    split_text = [x for x in row['pr_txt'].split() if x]\n",
        "    df.loc[index, 'pr_txt'] = ' '.join(split_text[0: maxSequenceLength])\n",
        "    for i in range(maxSequenceLength, len(split_text), maxSequenceLength):\n",
        "        df.loc[len(df)] = {\n",
        "            'pr_txt': ' '.join(split_text[i: i + maxSequenceLength]),\n",
        "            'Уровень рейтинга': row['Уровень рейтинга'],\n",
        "            'Категория': row['Категория']\n",
        "        }"
      ]
    },
    {
      "cell_type": "code",
      "execution_count": null,
      "metadata": {
        "colab": {
          "base_uri": "https://localhost:8080/"
        },
        "id": "ibRw9x-kyJUW",
        "outputId": "bb8638b4-95a7-425b-c343-2fc55805f27a"
      },
      "outputs": [
        {
          "data": {
            "text/plain": [
              "array(['A', 'BB', 'AAA', 'BBB', 'AA', 'B', 'C'], dtype=object)"
            ]
          },
          "execution_count": 10,
          "metadata": {},
          "output_type": "execute_result"
        }
      ],
      "source": [
        "df['Категория'].unique()"
      ]
    },
    {
      "cell_type": "code",
      "execution_count": null,
      "metadata": {
        "colab": {
          "base_uri": "https://localhost:8080/"
        },
        "id": "ARPtRHxgyThn",
        "outputId": "859cd94c-7894-4020-ef72-b023b9f30f1a"
      },
      "outputs": [
        {
          "data": {
            "text/plain": [
              "array(['A', 'BB', 'AAA', 'BBB', 'AA+', 'BB+', 'BB-', 'A-', 'A+', 'B',\n",
              "       'AA-', 'BBB+', 'BBB-', 'B-', 'AA', 'B+', 'C'], dtype=object)"
            ]
          },
          "execution_count": 11,
          "metadata": {},
          "output_type": "execute_result"
        }
      ],
      "source": [
        "df['Уровень рейтинга'].unique()"
      ]
    },
    {
      "cell_type": "code",
      "execution_count": null,
      "metadata": {
        "colab": {
          "base_uri": "https://localhost:8080/"
        },
        "id": "IWS9AhoTK-Ec",
        "outputId": "b7ad1912-a802-4336-b845-6d7ff0f4b907"
      },
      "outputs": [
        {
          "output_type": "stream",
          "name": "stdout",
          "text": [
            "Всего категорий: 8\n"
          ]
        }
      ],
      "source": [
        "categories = {}\n",
        "for key, value in enumerate(df['Категория'].unique()):\n",
        "    categories[value] = key\n",
        "\n",
        "# Запишем в новую колонку числовое обозначение категории\n",
        "df['label'] = df['Категория'].map(categories)\n",
        "\n",
        "total_categories = len(df['label'].unique()) + 1\n",
        "print('Всего категорий: {}'.format(total_categories))"
      ]
    },
    {
      "cell_type": "code",
      "execution_count": null,
      "metadata": {
        "id": "8cgFsrShyThL"
      },
      "outputs": [],
      "source": [
        "sentence = df['pr_txt'].tolist()\n",
        "label = df['label'].tolist()\n",
        "num_labels = len(np.unique(label))"
      ]
    },
    {
      "cell_type": "code",
      "execution_count": null,
      "metadata": {
        "id": "XdJxdLp2LgMs"
      },
      "outputs": [],
      "source": [
        "def one_hot_encode(y, n_classes=None):\n",
        "    \"\"\"\n",
        "    One hot encode a list of sample labels. Return a one-hot encoded vector for each label.\n",
        "    : y: List of sample Labels\n",
        "    : return: Numpy array of one-hot encoded labels\n",
        "     \"\"\"\n",
        "    if n_classes is None:\n",
        "        n_classes = len(np.unique(y))\n",
        "    return np.eye(n_classes)[y]\n",
        "\n",
        "\n",
        "def iterative_train_test_split(X, y, test_size):\n",
        "    \"\"\"Iteratively stratified train/test split\n",
        "\n",
        "    Parameters\n",
        "    ----------\n",
        "    test_size : float, [0,1]\n",
        "        the proportion of the dataset to include in the test split, the rest will be put in the train set\n",
        "\n",
        "    Returns\n",
        "    -------\n",
        "    X_train, y_train, X_test, y_test\n",
        "        stratified division into train/test split\n",
        "    \"\"\"\n",
        "\n",
        "    stratifier = IterativeStratification(n_splits=2, order=2, sample_distribution_per_fold=[test_size, 1.0-test_size])\n",
        "    tmp_y = one_hot_encode(y)\n",
        "    train_indexes, test_indexes = next(stratifier.split(X, tmp_y))\n",
        "\n",
        "    X_train, y_train = np.array(X)[train_indexes.astype(int)], np.array(y)[train_indexes.astype(int)]\n",
        "    X_test, y_test = np.array(X)[test_indexes.astype(int)], np.array(y)[test_indexes.astype(int)]\n",
        "\n",
        "    return X_train, X_test, y_train, y_test"
      ]
    },
    {
      "cell_type": "code",
      "execution_count": null,
      "metadata": {
        "id": "vEIF6NvkLnQu"
      },
      "outputs": [],
      "source": [
        "# X_train, X_test, y_train, y_test = train_test_split(descriptions, categories_code, test_size=0.1, random_state=42)\n",
        "X_train, X_test, y_train, y_test = iterative_train_test_split(sentence, label, test_size=0.15)\n",
        "# Приведение массива меток categories_code к массиву numpy.\n",
        "all_y = np.array(label)\n",
        "#Вызов метода class_weight.compute_class_weight() для назнаячения весов меткам данных.\n",
        "class_weights_ist = class_weight.compute_class_weight(\n",
        "    class_weight='balanced',\n",
        "    classes=np.unique(all_y),\n",
        "    y=all_y\n",
        ")"
      ]
    },
    {
      "cell_type": "code",
      "execution_count": null,
      "metadata": {
        "colab": {
          "base_uri": "https://localhost:8080/"
        },
        "id": "tZ55j_4-0V9i",
        "outputId": "2550da12-1c9f-46bc-83b4-1f3fc1ff3492"
      },
      "outputs": [
        {
          "name": "stdout",
          "output_type": "stream",
          "text": [
            "A\t0.44025157232704404\n",
            "BB\t1.2247644683714671\n",
            "AAA\t1.0769230769230769\n",
            "BBB\t0.6637490882567469\n",
            "AA\t0.8512628624883068\n",
            "B\t3.823529411764706\n",
            "C\t24.594594594594593\n"
          ]
        }
      ],
      "source": [
        "print('\\n'.join(f\"{x}\\t{y}\" for x, y in zip(categories.keys(), class_weights_ist)))"
      ]
    },
    {
      "cell_type": "code",
      "execution_count": null,
      "metadata": {
        "colab": {
          "base_uri": "https://localhost:8080/"
        },
        "id": "ouJf3cQANUwv",
        "outputId": "b009a24c-9fee-4da4-84d5-327bb5611fb2"
      },
      "outputs": [
        {
          "name": "stdout",
          "output_type": "stream",
          "text": [
            "A\t0.636172975132328\n",
            "BB\t1.3981562774363476\n",
            "AAA\t0.4434389140271493\n",
            "BBB\t0.8217234262125903\n",
            "AA+\t0.9886698742821667\n",
            "BB+\t1.193330835518921\n",
            "BB-\t2.3273657289002556\n",
            "A-\t0.47551507912809793\n",
            "A+\t0.5430520034100597\n",
            "B\t5.764705882352941\n",
            "AA-\t1.2448700410396716\n",
            "BBB+\t0.6427202098678236\n",
            "BBB-\t1.128632175761871\n",
            "B-\t5.764705882352941\n",
            "AA\t0.9632541962800545\n",
            "B+\t3.469498910675381\n",
            "C\t10.127186009538951\n"
          ]
        }
      ],
      "source": [
        "print('\\n'.join(f\"{x}\\t{y}\" for x, y in zip(categories.keys(), class_weights_ist)))"
      ]
    },
    {
      "cell_type": "code",
      "execution_count": null,
      "metadata": {
        "colab": {
          "base_uri": "https://localhost:8080/"
        },
        "id": "1gLARef28mMS",
        "outputId": "44c13387-ad07-43e9-b3e8-471dc6bed24c"
      },
      "outputs": [
        {
          "output_type": "stream",
          "name": "stdout",
          "text": [
            "\u001b[2K     \u001b[90m━━━━━━━━━━━━━━━━━━━━━━━━━━━━━━━━━━━━━━━━\u001b[0m \u001b[32m7.6/7.6 MB\u001b[0m \u001b[31m13.9 MB/s\u001b[0m eta \u001b[36m0:00:00\u001b[0m\n",
            "\u001b[2K     \u001b[90m━━━━━━━━━━━━━━━━━━━━━━━━━━━━━━━━━━━━━━\u001b[0m \u001b[32m268.8/268.8 kB\u001b[0m \u001b[31m15.5 MB/s\u001b[0m eta \u001b[36m0:00:00\u001b[0m\n",
            "\u001b[2K     \u001b[90m━━━━━━━━━━━━━━━━━━━━━━━━━━━━━━━━━━━━━━━━\u001b[0m \u001b[32m7.8/7.8 MB\u001b[0m \u001b[31m38.3 MB/s\u001b[0m eta \u001b[36m0:00:00\u001b[0m\n",
            "\u001b[2K     \u001b[90m━━━━━━━━━━━━━━━━━━━━━━━━━━━━━━━━━━━━━━━━\u001b[0m \u001b[32m1.3/1.3 MB\u001b[0m \u001b[31m24.5 MB/s\u001b[0m eta \u001b[36m0:00:00\u001b[0m\n",
            "\u001b[2K     \u001b[90m━━━━━━━━━━━━━━━━━━━━━━━━━━━━━━━━━━━━━━\u001b[0m \u001b[32m251.2/251.2 kB\u001b[0m \u001b[31m17.6 MB/s\u001b[0m eta \u001b[36m0:00:00\u001b[0m\n",
            "\u001b[?25h"
          ]
        }
      ],
      "source": [
        "!pip install transformers[torch] -q"
      ]
    },
    {
      "cell_type": "code",
      "execution_count": null,
      "metadata": {
        "id": "LotUU3DP8kG7"
      },
      "outputs": [],
      "source": [
        "import torch\n",
        "from torch.utils.data import Dataset, DataLoader\n",
        "from transformers import (\n",
        "    BertForSequenceClassification,\n",
        "    BertTokenizer,\n",
        "    TrainingArguments, Trainer\n",
        ")"
      ]
    },
    {
      "cell_type": "code",
      "execution_count": null,
      "metadata": {
        "id": "Pn2ds4TP8nwz"
      },
      "outputs": [],
      "source": [
        "device = \"cuda\" if torch.cuda.is_available() else \"cpu\""
      ]
    },
    {
      "cell_type": "code",
      "execution_count": null,
      "metadata": {
        "colab": {
          "base_uri": "https://localhost:8080/",
          "height": 52,
          "referenced_widgets": [
            "33e22e9d65de417dbbfacc0b4626590c",
            "1920bd5a0cad4d9f980e5fa25ec7c26c",
            "6a9ee8f3a4914614a51d41fd7aa68c2e",
            "2400f9cc1bea442b9b24edc67bb54bfa",
            "10392369ee3140d6a17b4688e3fc193a",
            "4250ad0c159643e88bb533c43ea076b2",
            "f01a30e3ee90426b8f94583dfbafb0b0",
            "ede71ab2a87441329e71e4409eb49275",
            "33f3ce7accda42faa8b6d74e2a5d1dca",
            "b295615843404537b4b95cea11c35181",
            "aa36a2e3945a461fbf66195f62188140",
            "a079cba6ee844fa89791b287e0f74289",
            "089acd983ff64b9482ebe917f314f286",
            "6b110cc66e804e5493e6df53461090ec",
            "ced11bda483440629a511a1f3326165d",
            "849ffc2608214e5fb7fb00a9d251a9fd",
            "3d4f2acb7f4f48fb91152bca2d45a188",
            "ad1a9e7851014a7da748369d4e528c64",
            "2e64025d8cf14a38a6e1a02377512736",
            "f78e5ab963b7428e9e9b8706e114c7dc",
            "ebdb915844f84b08bb727979d8996dde",
            "9711ed6badc34edd90ff77393f197966",
            "363cb43d8b10438a8d2bfedfe8bef50a",
            "04091f22361f4949ab5008702df8feb0",
            "ebe5cb4a523046c2977ee49ef2e70301",
            "3e1f09a46c624b86bbcf603a343cef9c",
            "98600f6a7be141589f0fba553364d5bd",
            "5918d1ff619548d6a574b3e07ea1bdb5",
            "28cedc5bd8054fea99b0a2c6095922b0",
            "202fadd6b7fd4b77a27b571efeb90b1a",
            "a5362f65e8714770b3ffc2001b33cfb0",
            "22d9ddd5e66749efaac7e4ac0f79d194",
            "a2bcaaac06ab42059c65b9a9c3b3aa7e",
            "b9da8df1c92c4cd5aa5e86efcaf6bbf3",
            "85247f8801b54da5b047003954931c0d",
            "607d3f1931514dadb62805258071162d",
            "9ca634af8778402d912be4414d840ce9",
            "4570f55b589e43748d4bcce2c6953b3a",
            "f94c83dccd73427ca5f5ff7b751bc771",
            "a45d5575f31b41d0ba4c2464732f8f7b",
            "c427ffd092ab4a1281828ff9fa1f8a3e",
            "9bcc2fd66cfc43299dfb902cb829087d",
            "526d39fee51b4977ba438f94d3ce40bb",
            "1d113f007db94b4296badf3f4a85f4e1",
            "aa5f75dafaaf4e49ac6b5c0cf6ca71da",
            "db0258da9e8d4ce98fe0dd8335c4db2f",
            "f4b1dfbf514a49da91ca77803f12caaf",
            "98b170bb9eaa4fe38ff5e726daabfe4f",
            "e4dc7b3d98154f40a90882c45af18895",
            "fa86c1e3e6584818aca3419f4d80603a",
            "45a57fd67b24493cbb1929431b74a98c",
            "469959b7efa9489baf279f12a6b3e3da",
            "50e88b7c666e4a22bcc73de0fbeff609",
            "5f2db8c6bc3c4fbda408e9178554e489",
            "0e424469d6674af091220fc4cdb3ceb8"
          ]
        },
        "id": "5oiDDjlb8o1q",
        "outputId": "8794d23e-2a51-4c26-853a-f82ca897add2"
      },
      "outputs": [
        {
          "output_type": "display_data",
          "data": {
            "text/plain": [
              "Downloading (…)lve/main/config.json:   0%|          | 0.00/715 [00:00<?, ?B/s]"
            ],
            "application/vnd.jupyter.widget-view+json": {
              "version_major": 2,
              "version_minor": 0,
              "model_id": "33e22e9d65de417dbbfacc0b4626590c"
            }
          },
          "metadata": {}
        },
        {
          "output_type": "display_data",
          "data": {
            "text/plain": [
              "Downloading model.safetensors:   0%|          | 0.00/118M [00:00<?, ?B/s]"
            ],
            "application/vnd.jupyter.widget-view+json": {
              "version_major": 2,
              "version_minor": 0,
              "model_id": "a079cba6ee844fa89791b287e0f74289"
            }
          },
          "metadata": {}
        },
        {
          "output_type": "stream",
          "name": "stderr",
          "text": [
            "Some weights of BertForSequenceClassification were not initialized from the model checkpoint at cointegrated/rubert-tiny2 and are newly initialized: ['classifier.weight', 'classifier.bias']\n",
            "You should probably TRAIN this model on a down-stream task to be able to use it for predictions and inference.\n"
          ]
        },
        {
          "output_type": "display_data",
          "data": {
            "text/plain": [
              "Downloading (…)solve/main/vocab.txt:   0%|          | 0.00/1.08M [00:00<?, ?B/s]"
            ],
            "application/vnd.jupyter.widget-view+json": {
              "version_major": 2,
              "version_minor": 0,
              "model_id": "363cb43d8b10438a8d2bfedfe8bef50a"
            }
          },
          "metadata": {}
        },
        {
          "output_type": "display_data",
          "data": {
            "text/plain": [
              "Downloading (…)cial_tokens_map.json:   0%|          | 0.00/112 [00:00<?, ?B/s]"
            ],
            "application/vnd.jupyter.widget-view+json": {
              "version_major": 2,
              "version_minor": 0,
              "model_id": "b9da8df1c92c4cd5aa5e86efcaf6bbf3"
            }
          },
          "metadata": {}
        },
        {
          "output_type": "display_data",
          "data": {
            "text/plain": [
              "Downloading (…)okenizer_config.json:   0%|          | 0.00/401 [00:00<?, ?B/s]"
            ],
            "application/vnd.jupyter.widget-view+json": {
              "version_major": 2,
              "version_minor": 0,
              "model_id": "aa5f75dafaaf4e49ac6b5c0cf6ca71da"
            }
          },
          "metadata": {}
        }
      ],
      "source": [
        "model = BertForSequenceClassification.from_pretrained('cointegrated/rubert-tiny2', num_labels=num_labels).to(device)\n",
        "tokenizer = BertTokenizer.from_pretrained('cointegrated/rubert-tiny2')"
      ]
    },
    {
      "cell_type": "code",
      "execution_count": null,
      "metadata": {
        "id": "nJOGqsIp8p-z"
      },
      "outputs": [],
      "source": [
        "tokens_train = tokenizer.batch_encode_plus(\n",
        "    X_train.tolist(),\n",
        "    max_length=maxSequenceLength,\n",
        "    padding='max_length',\n",
        "    truncation=True\n",
        ")\n",
        "tokens_test = tokenizer.batch_encode_plus(\n",
        "    X_test.tolist(),\n",
        "    max_length=maxSequenceLength,\n",
        "    padding='max_length',\n",
        "    truncation=True\n",
        ")"
      ]
    },
    {
      "cell_type": "code",
      "execution_count": null,
      "metadata": {
        "id": "npCrOxIkPMJd"
      },
      "outputs": [],
      "source": [
        "class Data(torch.utils.data.Dataset):\n",
        "    def __init__(self, encodings, labels=None):\n",
        "        self.encodings = encodings\n",
        "        self.labels = labels\n",
        "\n",
        "    def __getitem__(self, idx):\n",
        "        item = {k: torch.tensor(v[idx]) for k, v in self.encodings.items()}\n",
        "        if self.labels is not None:\n",
        "            item[\"labels\"] = torch.tensor(self.labels[idx])\n",
        "        return item\n",
        "\n",
        "    def __len__(self):\n",
        "        return len(self.encodings[\"input_ids\"])\n",
        "\n",
        "train_dataset = Data(tokens_train, y_train)\n",
        "test_dataset = Data(tokens_test, y_test)"
      ]
    },
    {
      "cell_type": "code",
      "execution_count": null,
      "metadata": {
        "id": "iM8G1qNZPNpW"
      },
      "outputs": [],
      "source": [
        "def compute_metrics(pred):\n",
        "    labels = pred.label_ids\n",
        "    preds = pred.predictions.argmax(-1)\n",
        "    precision, recall, f1, _ = precision_recall_fscore_support(labels, preds, average=\"macro\")\n",
        "\n",
        "    acc = accuracy_score(labels, preds)\n",
        "    return {\n",
        "        'accuracy': acc,\n",
        "        'f1': f1,\n",
        "        #'macro f1': macro_f1,\n",
        "        'precision': precision,\n",
        "        'recall': recall\n",
        "    }"
      ]
    },
    {
      "cell_type": "code",
      "execution_count": null,
      "metadata": {
        "id": "Q15HchYhQ9FW"
      },
      "outputs": [],
      "source": [
        "class_weights_ist = torch.tensor(class_weights_ist, dtype=torch.float).to(device)\n",
        "loss_fct = torch.nn.CrossEntropyLoss(weight=class_weights_ist)\n",
        "\n",
        "class CustomTrainer(Trainer):\n",
        "    def compute_loss(self, model, inputs, return_outputs=False):\n",
        "        labels = inputs.get(\"labels\")\n",
        "        # forward pass\n",
        "        outputs = model(**inputs)\n",
        "        logits = outputs.get(\"logits\")\n",
        "\n",
        "        loss = loss_fct(logits.view(-1, self.model.config.num_labels), labels.view(-1))\n",
        "        return (loss, outputs) if return_outputs else loss"
      ]
    },
    {
      "cell_type": "code",
      "execution_count": null,
      "metadata": {
        "id": "r7wZiGoUQDFP"
      },
      "outputs": [],
      "source": [
        "training_args = TrainingArguments(\n",
        "    output_dir=\"./results\", #Выходной каталог\n",
        "    num_train_epochs=30, #Кол-во эпох для обучения\n",
        "    per_device_train_batch_size = 64, #Размер пакета для каждого устройства во время обучения\n",
        "    per_device_eval_batch_size = 64, #Размер пакета для каждого устройства во время валидации\n",
        "    weight_decay =0.01, #Понижение весов\n",
        "    logging_dir=\"./logs\", #Каталог для хранения журналов\n",
        "    load_best_model_at_end = True, #Загружать ли лучшую модель после обучения\n",
        "    learning_rate = 1e-5, #Скорость обучения\n",
        "    evaluation_strategy ='epoch', #Валидация после каждой эпохи (можно сделать после конкретного кол-ва шагов)\n",
        "    logging_strategy = 'epoch', #Логирование после каждой эпохи\n",
        "    save_strategy = 'epoch', #Сохранение после каждой эпохи\n",
        "    metric_for_best_model=\"f1\",\n",
        "    save_total_limit = 1,\n",
        "    seed=21)"
      ]
    },
    {
      "cell_type": "code",
      "execution_count": null,
      "metadata": {
        "id": "YFG5S9meQ6SU"
      },
      "outputs": [],
      "source": [
        "trainer = CustomTrainer(\n",
        "    model=model,\n",
        "    tokenizer=tokenizer,\n",
        "    args=training_args,\n",
        "    train_dataset=train_dataset,\n",
        "    eval_dataset=test_dataset,\n",
        "    compute_metrics=compute_metrics\n",
        ")"
      ]
    },
    {
      "cell_type": "code",
      "execution_count": null,
      "metadata": {
        "colab": {
          "base_uri": "https://localhost:8080/",
          "height": 737
        },
        "id": "AbGy-sIiRBs2",
        "outputId": "57022f84-789d-41bb-fe53-c5f829e1f490"
      },
      "outputs": [
        {
          "output_type": "display_data",
          "data": {
            "text/plain": [
              "<IPython.core.display.HTML object>"
            ],
            "text/html": [
              "\n",
              "    <div>\n",
              "      \n",
              "      <progress value='1700' max='1700' style='width:300px; height:20px; vertical-align: middle;'></progress>\n",
              "      [1700/1700 02:45, Epoch 20/20]\n",
              "    </div>\n",
              "    <table border=\"1\" class=\"dataframe\">\n",
              "  <thead>\n",
              " <tr style=\"text-align: left;\">\n",
              "      <th>Epoch</th>\n",
              "      <th>Training Loss</th>\n",
              "      <th>Validation Loss</th>\n",
              "      <th>Accuracy</th>\n",
              "      <th>F1</th>\n",
              "      <th>Precision</th>\n",
              "      <th>Recall</th>\n",
              "    </tr>\n",
              "  </thead>\n",
              "  <tbody>\n",
              "    <tr>\n",
              "      <td>1</td>\n",
              "      <td>0.177200</td>\n",
              "      <td>0.813902</td>\n",
              "      <td>0.786611</td>\n",
              "      <td>0.760547</td>\n",
              "      <td>0.740865</td>\n",
              "      <td>0.799665</td>\n",
              "    </tr>\n",
              "    <tr>\n",
              "      <td>2</td>\n",
              "      <td>0.197500</td>\n",
              "      <td>0.830974</td>\n",
              "      <td>0.788703</td>\n",
              "      <td>0.763566</td>\n",
              "      <td>0.750860</td>\n",
              "      <td>0.797310</td>\n",
              "    </tr>\n",
              "    <tr>\n",
              "      <td>3</td>\n",
              "      <td>0.178100</td>\n",
              "      <td>0.858038</td>\n",
              "      <td>0.789749</td>\n",
              "      <td>0.745036</td>\n",
              "      <td>0.735860</td>\n",
              "      <td>0.790511</td>\n",
              "    </tr>\n",
              "    <tr>\n",
              "      <td>4</td>\n",
              "      <td>0.177400</td>\n",
              "      <td>0.815550</td>\n",
              "      <td>0.789749</td>\n",
              "      <td>0.755225</td>\n",
              "      <td>0.737260</td>\n",
              "      <td>0.799431</td>\n",
              "    </tr>\n",
              "    <tr>\n",
              "      <td>5</td>\n",
              "      <td>0.170700</td>\n",
              "      <td>0.937442</td>\n",
              "      <td>0.785565</td>\n",
              "      <td>0.745336</td>\n",
              "      <td>0.744613</td>\n",
              "      <td>0.776626</td>\n",
              "    </tr>\n",
              "    <tr>\n",
              "      <td>6</td>\n",
              "      <td>0.183000</td>\n",
              "      <td>0.807775</td>\n",
              "      <td>0.790795</td>\n",
              "      <td>0.776384</td>\n",
              "      <td>0.761374</td>\n",
              "      <td>0.801630</td>\n",
              "    </tr>\n",
              "    <tr>\n",
              "      <td>7</td>\n",
              "      <td>0.173600</td>\n",
              "      <td>0.834349</td>\n",
              "      <td>0.783473</td>\n",
              "      <td>0.739262</td>\n",
              "      <td>0.725407</td>\n",
              "      <td>0.792939</td>\n",
              "    </tr>\n",
              "    <tr>\n",
              "      <td>8</td>\n",
              "      <td>0.168700</td>\n",
              "      <td>0.849884</td>\n",
              "      <td>0.794979</td>\n",
              "      <td>0.745792</td>\n",
              "      <td>0.731707</td>\n",
              "      <td>0.797885</td>\n",
              "    </tr>\n",
              "    <tr>\n",
              "      <td>9</td>\n",
              "      <td>0.166900</td>\n",
              "      <td>0.880248</td>\n",
              "      <td>0.787657</td>\n",
              "      <td>0.743457</td>\n",
              "      <td>0.734142</td>\n",
              "      <td>0.789063</td>\n",
              "    </tr>\n",
              "    <tr>\n",
              "      <td>10</td>\n",
              "      <td>0.164700</td>\n",
              "      <td>0.833435</td>\n",
              "      <td>0.791841</td>\n",
              "      <td>0.755998</td>\n",
              "      <td>0.737962</td>\n",
              "      <td>0.803927</td>\n",
              "    </tr>\n",
              "    <tr>\n",
              "      <td>11</td>\n",
              "      <td>0.175600</td>\n",
              "      <td>0.859905</td>\n",
              "      <td>0.787657</td>\n",
              "      <td>0.757940</td>\n",
              "      <td>0.747435</td>\n",
              "      <td>0.790244</td>\n",
              "    </tr>\n",
              "    <tr>\n",
              "      <td>12</td>\n",
              "      <td>0.165300</td>\n",
              "      <td>0.832957</td>\n",
              "      <td>0.791841</td>\n",
              "      <td>0.753654</td>\n",
              "      <td>0.736137</td>\n",
              "      <td>0.800671</td>\n",
              "    </tr>\n",
              "    <tr>\n",
              "      <td>13</td>\n",
              "      <td>0.155500</td>\n",
              "      <td>0.834850</td>\n",
              "      <td>0.788703</td>\n",
              "      <td>0.755647</td>\n",
              "      <td>0.737803</td>\n",
              "      <td>0.798134</td>\n",
              "    </tr>\n",
              "    <tr>\n",
              "      <td>14</td>\n",
              "      <td>0.183700</td>\n",
              "      <td>0.860031</td>\n",
              "      <td>0.791841</td>\n",
              "      <td>0.762565</td>\n",
              "      <td>0.750322</td>\n",
              "      <td>0.796393</td>\n",
              "    </tr>\n",
              "    <tr>\n",
              "      <td>15</td>\n",
              "      <td>0.168600</td>\n",
              "      <td>0.839998</td>\n",
              "      <td>0.792887</td>\n",
              "      <td>0.765143</td>\n",
              "      <td>0.747721</td>\n",
              "      <td>0.802984</td>\n",
              "    </tr>\n",
              "    <tr>\n",
              "      <td>16</td>\n",
              "      <td>0.179500</td>\n",
              "      <td>0.869714</td>\n",
              "      <td>0.787657</td>\n",
              "      <td>0.750913</td>\n",
              "      <td>0.738341</td>\n",
              "      <td>0.794425</td>\n",
              "    </tr>\n",
              "    <tr>\n",
              "      <td>17</td>\n",
              "      <td>0.167100</td>\n",
              "      <td>0.855920</td>\n",
              "      <td>0.787657</td>\n",
              "      <td>0.751237</td>\n",
              "      <td>0.737721</td>\n",
              "      <td>0.796149</td>\n",
              "    </tr>\n",
              "    <tr>\n",
              "      <td>18</td>\n",
              "      <td>0.156600</td>\n",
              "      <td>0.851614</td>\n",
              "      <td>0.790795</td>\n",
              "      <td>0.753123</td>\n",
              "      <td>0.738352</td>\n",
              "      <td>0.797799</td>\n",
              "    </tr>\n",
              "    <tr>\n",
              "      <td>19</td>\n",
              "      <td>0.153500</td>\n",
              "      <td>0.854970</td>\n",
              "      <td>0.793933</td>\n",
              "      <td>0.756712</td>\n",
              "      <td>0.742520</td>\n",
              "      <td>0.801105</td>\n",
              "    </tr>\n",
              "    <tr>\n",
              "      <td>20</td>\n",
              "      <td>0.158100</td>\n",
              "      <td>0.855803</td>\n",
              "      <td>0.797071</td>\n",
              "      <td>0.763868</td>\n",
              "      <td>0.749681</td>\n",
              "      <td>0.803778</td>\n",
              "    </tr>\n",
              "  </tbody>\n",
              "</table><p>"
            ]
          },
          "metadata": {}
        },
        {
          "output_type": "execute_result",
          "data": {
            "text/plain": [
              "TrainOutput(global_step=1700, training_loss=0.17106926244847914, metrics={'train_runtime': 165.7926, 'train_samples_per_second': 653.105, 'train_steps_per_second': 10.254, 'total_flos': 399499853475840.0, 'train_loss': 0.17106926244847914, 'epoch': 20.0})"
            ]
          },
          "metadata": {},
          "execution_count": 101
        }
      ],
      "source": [
        "trainer.train()"
      ]
    },
    {
      "cell_type": "code",
      "execution_count": null,
      "metadata": {
        "id": "os6BN2peEDWE"
      },
      "outputs": [],
      "source": [
        "model_path = \"rubert-CB-cat-7764\""
      ]
    },
    {
      "cell_type": "code",
      "execution_count": null,
      "metadata": {
        "colab": {
          "base_uri": "https://localhost:8080/"
        },
        "id": "282xHmWJc1Bx",
        "outputId": "0968a918-9c09-48a6-9ec4-5fa260d9259a"
      },
      "outputs": [
        {
          "output_type": "execute_result",
          "data": {
            "text/plain": [
              "('rubert-CB-cat-7764\\\\tokenizer_config.json',\n",
              " 'rubert-CB-cat-7764\\\\special_tokens_map.json',\n",
              " 'rubert-CB-cat-7764\\\\vocab.txt',\n",
              " 'rubert-CB-cat-7764\\\\added_tokens.json')"
            ]
          },
          "metadata": {},
          "execution_count": 103
        }
      ],
      "source": [
        "model.save_pretrained(model_path)\n",
        "tokenizer.save_pretrained(model_path)"
      ]
    },
    {
      "cell_type": "code",
      "execution_count": null,
      "metadata": {
        "id": "jr3kfzzsecLX"
      },
      "outputs": [],
      "source": [
        "categories_str = dict((str(k), v) for k, v in categories.items())\n",
        "\n",
        "with open(f'{model_path}/categories.json', 'w') as f:\n",
        "    json.dump(categories_str, f)"
      ]
    },
    {
      "cell_type": "code",
      "execution_count": null,
      "metadata": {
        "id": "NUS5PYWqNhF-"
      },
      "outputs": [],
      "source": [
        "inv_categories = {v: k for k, v in categories.items()}"
      ]
    },
    {
      "cell_type": "code",
      "execution_count": null,
      "metadata": {
        "colab": {
          "base_uri": "https://localhost:8080/",
          "height": 17
        },
        "id": "MMXd8ggac7rJ",
        "outputId": "074f0514-1b61-4d11-dc05-9dd523164a7c"
      },
      "outputs": [
        {
          "output_type": "display_data",
          "data": {
            "text/plain": [
              "<IPython.core.display.HTML object>"
            ],
            "text/html": []
          },
          "metadata": {}
        }
      ],
      "source": [
        "def get_prediction():\n",
        "    test_pred = trainer.predict(test_dataset)\n",
        "    labels = np.argmax(test_pred.predictions, axis = -1)\n",
        "    return labels\n",
        "pred = get_prediction()"
      ]
    },
    {
      "cell_type": "code",
      "execution_count": null,
      "metadata": {
        "colab": {
          "base_uri": "https://localhost:8080/"
        },
        "id": "esaCKJ6UNlAj",
        "outputId": "eadd0c56-db0a-496b-f98b-05ee37bd492d"
      },
      "outputs": [
        {
          "data": {
            "text/plain": [
              "{0: 'A', 1: 'BB', 2: 'AAA', 3: 'BBB', 4: 'AA', 5: 'B', 6: 'C'}"
            ]
          },
          "execution_count": 29,
          "metadata": {},
          "output_type": "execute_result"
        }
      ],
      "source": [
        "inv_categories"
      ]
    },
    {
      "cell_type": "code",
      "execution_count": null,
      "metadata": {
        "colab": {
          "base_uri": "https://localhost:8080/"
        },
        "id": "yIRT-uDGNRML",
        "outputId": "05c83d5e-3226-41c6-9391-82d6b9eacc39"
      },
      "outputs": [
        {
          "output_type": "execute_result",
          "data": {
            "text/plain": [
              "{0: 'A', 1: 'BB', 2: 'AAA', 3: 'BBB', 4: 'AA', 5: 'B', 6: 'C'}"
            ]
          },
          "metadata": {},
          "execution_count": 32
        }
      ],
      "source": [
        "model.config.id2label = inv_categories\n",
        "model.config.id2label"
      ]
    },
    {
      "cell_type": "code",
      "execution_count": null,
      "metadata": {
        "id": "PzSAzXMjNNUy"
      },
      "outputs": [],
      "source": [
        "model.config.label2id = categories"
      ]
    },
    {
      "cell_type": "code",
      "source": [
        "print(classification_report(y_test, pred, target_names=categories.keys(), digits=4))"
      ],
      "metadata": {
        "colab": {
          "base_uri": "https://localhost:8080/"
        },
        "id": "ks0rxh5ml68B",
        "outputId": "d76026b0-2e10-43ca-c944-2518648d14b8"
      },
      "execution_count": null,
      "outputs": [
        {
          "output_type": "stream",
          "name": "stdout",
          "text": [
            "              precision    recall  f1-score   support\n",
            "\n",
            "           A     0.8155    0.8129    0.8142       310\n",
            "          BB     0.7207    0.7207    0.7207       111\n",
            "         AAA     0.9130    0.8268    0.8678       127\n",
            "         BBB     0.7395    0.7718    0.7553       206\n",
            "          AA     0.8075    0.8125    0.8100       160\n",
            "           B     0.6667    0.6667    0.6667        36\n",
            "           C     0.6667    1.0000    0.8000         6\n",
            "\n",
            "    accuracy                         0.7908       956\n",
            "   macro avg     0.7614    0.8016    0.7764       956\n",
            "weighted avg     0.7932    0.7908    0.7914       956\n",
            "\n"
          ]
        }
      ]
    },
    {
      "cell_type": "code",
      "execution_count": null,
      "metadata": {
        "colab": {
          "base_uri": "https://localhost:8080/"
        },
        "id": "qWklsrgPdGj9",
        "outputId": "2d351fec-9c55-46e1-dfda-9da64dc3fb1f"
      },
      "outputs": [
        {
          "output_type": "stream",
          "name": "stdout",
          "text": [
            "              precision    recall  f1-score   support\n",
            "\n",
            "           A     0.8613    0.8613    0.8613       310\n",
            "          BB     0.7570    0.7297    0.7431       111\n",
            "         AAA     0.9273    0.8031    0.8608       127\n",
            "         BBB     0.7661    0.8107    0.7877       206\n",
            "          AA     0.8023    0.8875    0.8427       160\n",
            "           B     0.7500    0.5000    0.6000        36\n",
            "           C     0.6000    1.0000    0.7500         6\n",
            "\n",
            "    accuracy                         0.8190       956\n",
            "   macro avg     0.7806    0.7989    0.7779       956\n",
            "weighted avg     0.8217    0.8190    0.8180       956\n",
            "\n"
          ]
        }
      ],
      "source": [
        "print(classification_report(y_test, pred, target_names=categories.keys(), digits=4))"
      ]
    },
    {
      "cell_type": "code",
      "execution_count": null,
      "metadata": {
        "id": "UtZNuyKkdRBX"
      },
      "outputs": [],
      "source": [
        "!7z a {model_path} {'./' + model_path}"
      ]
    },
    {
      "cell_type": "code",
      "execution_count": null,
      "metadata": {
        "id": "J8m73lC1fVqH"
      },
      "outputs": [],
      "source": [
        "root_path = '/content/drive/MyDrive/Colab Notebooks/ЦБ оценка рейтинга пресс-релизов'"
      ]
    },
    {
      "cell_type": "code",
      "execution_count": null,
      "metadata": {
        "id": "tXSQLSvtfr8w"
      },
      "outputs": [],
      "source": [
        "from shutil import copyfile, copytree"
      ]
    },
    {
      "cell_type": "code",
      "execution_count": null,
      "metadata": {
        "colab": {
          "base_uri": "https://localhost:8080/",
          "height": 35
        },
        "id": "Rtwbrl_Kfopn",
        "outputId": "ee894281-96e1-48f0-e646-628db24e0cda"
      },
      "outputs": [
        {
          "data": {
            "application/vnd.google.colaboratory.intrinsic+json": {
              "type": "string"
            },
            "text/plain": [
              "'/content/drive/MyDrive/Colab Notebooks/ЦБ оценка рейтинга пресс-релизов/rubert-CB-6536.7z'"
            ]
          },
          "execution_count": 54,
          "metadata": {},
          "output_type": "execute_result"
        }
      ],
      "source": [
        "copyfile(model_path + '.7z', f\"{root_path}/{model_path}.7z\")"
      ]
    },
    {
      "cell_type": "code",
      "execution_count": null,
      "metadata": {
        "colab": {
          "base_uri": "https://localhost:8080/",
          "height": 35
        },
        "id": "C-yu3ZJ4EJL7",
        "outputId": "20ee9517-db2b-4a20-e6b2-d5a1efb1d4c0"
      },
      "outputs": [
        {
          "data": {
            "application/vnd.google.colaboratory.intrinsic+json": {
              "type": "string"
            },
            "text/plain": [
              "'rubert-CB-6536.7z'"
            ]
          },
          "execution_count": 11,
          "metadata": {},
          "output_type": "execute_result"
        }
      ],
      "source": [
        "copyfile( f\"{root_path}/{model_path}.7z\", model_path + '.7z')"
      ]
    },
    {
      "cell_type": "code",
      "execution_count": null,
      "metadata": {
        "id": "_7pZyRiVEYfu"
      },
      "outputs": [],
      "source": [
        "!7z x {model_path + '.7z'}  -aos"
      ]
    },
    {
      "cell_type": "code",
      "execution_count": null,
      "metadata": {
        "id": "fZVhsoc7T3hp"
      },
      "outputs": [],
      "source": [
        "model_path = f\"{root_path}/{model_path}\""
      ]
    },
    {
      "cell_type": "code",
      "execution_count": null,
      "metadata": {
        "id": "W-wihoQJEpQK"
      },
      "outputs": [],
      "source": [
        "model = BertForSequenceClassification.from_pretrained(model_path).to(device)\n",
        "tokenizer = BertTokenizer.from_pretrained(model_path)"
      ]
    },
    {
      "cell_type": "code",
      "execution_count": null,
      "metadata": {
        "colab": {
          "base_uri": "https://localhost:8080/",
          "height": 35
        },
        "id": "pQQv6A7bNF7_",
        "outputId": "07d51ccc-fbb4-4453-bedd-09a8edc7ac9e"
      },
      "outputs": [
        {
          "output_type": "execute_result",
          "data": {
            "text/plain": [
              "'/content/drive/MyDrive/Colab Notebooks/ЦБ оценка рейтинга пресс-релизов/rubert-CB-cat-7779'"
            ],
            "application/vnd.google.colaboratory.intrinsic+json": {
              "type": "string"
            }
          },
          "metadata": {},
          "execution_count": 31
        }
      ],
      "source": [
        "copytree(model_path, f\"{root_path}/{model_path}\")"
      ]
    },
    {
      "cell_type": "code",
      "execution_count": null,
      "metadata": {
        "id": "HlG-LcsR6ezL"
      },
      "outputs": [],
      "source": [
        "def explain(model, sample):\n",
        "    \"\"\" Computes the effect each word had on model predictions \"\"\"\n",
        "    sample_col_tokens = sample.split()\n",
        "    data_drop_one_token = [sample] * (len(sample_col_tokens) + 1)\n",
        "\n",
        "    for drop_i in range(len(sample_col_tokens)):\n",
        "        data_drop_one_token[drop_i] = ' '.join(tokenizer.unk_token if i == drop_i else tok\n",
        "                                               for i, tok in enumerate(sample_col_tokens))\n",
        "    x_tmp = tokenizer(\n",
        "        data_drop_one_token,\n",
        "        return_tensors=\"pt\",\n",
        "        max_length=maxSequenceLength,\n",
        "        padding='max_length',\n",
        "        truncation=True\n",
        "    ).to(device)\n",
        "    with torch.no_grad():\n",
        "        *predictions_drop_one_token, baseline_pred = model(**x_tmp).logits.detach().cpu()\n",
        "    predicted_class_id = baseline_pred.argmax().item()\n",
        "    predictions_drop_one_token = torch.stack(predictions_drop_one_token)\n",
        "    diffs = baseline_pred[predicted_class_id] - predictions_drop_one_token[:, predicted_class_id]\n",
        "    return list(zip(sample_col_tokens, diffs))"
      ]
    },
    {
      "cell_type": "code",
      "source": [
        "import matplotlib.pyplot as plt\n",
        "from IPython.display import HTML, display_html\n",
        "\n",
        "\n",
        "def draw_html(tokens_and_weights, cmap=plt.get_cmap(\"bwr\"), display=True,\n",
        "              token_template=\"\"\"<span style=\"background-color: {color_hex}\">{token}</span>\"\"\",\n",
        "              font_style=\"font-size:14px;\"\n",
        "             ):\n",
        "\n",
        "    def get_color_hex(weight):\n",
        "        rgba = cmap(1. / (1 + np.exp(float(weight))), bytes=True)\n",
        "        return '#%02X%02X%02X' % rgba[:3]\n",
        "\n",
        "    tokens_html = [\n",
        "        token_template.format(token=token, color_hex=get_color_hex(weight))\n",
        "        for token, weight in tokens_and_weights\n",
        "    ]\n",
        "\n",
        "    raw_html = \"\"\"<p style=\"{}\">{}</p>\"\"\".format(font_style, ' '.join(tokens_html))\n",
        "    if display:\n",
        "        display_html(HTML(raw_html))\n",
        "\n",
        "    return raw_html"
      ],
      "metadata": {
        "id": "LgmuQxnujPP7"
      },
      "execution_count": null,
      "outputs": []
    },
    {
      "cell_type": "code",
      "source": [
        "tokens_and_weights = list(zip(sample_col_tokens, diffs))"
      ],
      "metadata": {
        "id": "_KhRcWDGvFTX"
      },
      "execution_count": null,
      "outputs": []
    },
    {
      "cell_type": "code",
      "source": [],
      "metadata": {
        "colab": {
          "base_uri": "https://localhost:8080/"
        },
        "id": "60jVZRxLs3IB",
        "outputId": "b2505804-fb5b-456d-c463-a970e158406d"
      },
      "execution_count": null,
      "outputs": [
        {
          "output_type": "execute_result",
          "data": {
            "text/plain": [
              "'«Эксперт РА» присвоил кредитный рейтинг ПАО «ФосАгро» на уровне <rating> Москва, 30 марта 2023 г. Рейтинговое агентство «Эксперт РА» присвоило рейтинг кредитоспособности нефинансовой компании ПАО «ФосАгро» на уровне <rating>. Прогноз по рейтингу – стабильный. \") Группа «ФосАгро» является одним из ведущих в мире производителей минеральных удобрений на фосфорной основе, а также азотных и сложных удобрений. ПАО «ФосАгро» (далее – компания) является материнской консолидирующей компанией для добывающих, производственных активов и сегмента дистрибуции Группы «ФосАгро» (далее – Группа). Ключевым перерабатывающим активом Группы является АО «Апатит» в г. Череповец совместно с Балаковским и Волховским филиалом. Добыча фосфатного сырья осуществляется в г. Кировск в Мурманской области. Риск-профиль отрасли оказывает поддержку уровню рейтинга. Оценка устойчивости к внешним шокам ограничивается высокой волатильностью цен на минеральные удобрения, при этом исторически Группа демонстрирует сильные операционные и финансовые результаты, а также поддерживает относительно низкую долговую нагрузку, в том числе и в периоды негативной ценовой конъюнктуры. Показатели рентабельности Группы находятся на уровне выше среднерыночных и сопоставимы с мировыми лидерами отрасли. Агентство отмечает невысокую степень влияния геополитических ограничений на деятельность Группы ввиду обеспечения отраслью минеральных удобрений мировой продовольственной безопасности. Высокая степень географической диверсификации снижает риски падения общих объемов продаж в отдельных регионах. Группе в значительной мере удалось сохранить цепочки поставок в условиях геополитической напряженности, также частично продукция была перенаправлена на другие рынки сбыта, в частности, значительно выросла доля Индии. За отчетный период Группа нарастила объем продаж минеральных удобрений в натуральном выражении на 6,8%, что свидетельствует об устойчивости поставок в условиях макроэкономических шоков. Барьеры для входа в отрасль Группы оцениваются как высокие исходя из уровня капиталоемкости производства. Согласно'"
            ]
          },
          "metadata": {},
          "execution_count": 60
        }
      ]
    },
    {
      "cell_type": "code",
      "source": [
        "tokens_and_weights = explain(model, X_test[1])\n",
        "draw_html([(tok, weight * 10) for tok, weight in tokens_and_weights]);"
      ],
      "metadata": {
        "colab": {
          "base_uri": "https://localhost:8080/",
          "height": 220
        },
        "id": "yy4fycHKvqAx",
        "outputId": "9f6b92aa-c747-4647-d4e3-01fa3ac4e8f3"
      },
      "execution_count": null,
      "outputs": [
        {
          "output_type": "display_data",
          "data": {
            "text/html": [
              "<p style=\"font-size:14px;\"><span style=\"background-color: #FF4040\">«Эксперт</span> <span style=\"background-color: #FF4949\">РА»</span> <span style=\"background-color: #FFECEC\">присвоил</span> <span style=\"background-color: #FFF4F4\">кредитный</span> <span style=\"background-color: #FFF4F4\">рейтинг</span> <span style=\"background-color: #BCBCFF\">ПАО</span> <span style=\"background-color: #FCFCFF\">«ФосАгро»</span> <span style=\"background-color: #FFFCFC\">на</span> <span style=\"background-color: #F2F2FF\">уровне</span> <span style=\"background-color: #FF2C2C\"><rating></span> <span style=\"background-color: #FFA0A0\">Москва,</span> <span style=\"background-color: #FCFCFF\">30</span> <span style=\"background-color: #F6F6FF\">марта</span> <span style=\"background-color: #F3F3FF\">2023</span> <span style=\"background-color: #FFA6A6\">г.</span> <span style=\"background-color: #FF8686\">Рейтинговое</span> <span style=\"background-color: #FFEEEE\">агентство</span> <span style=\"background-color: #FF9393\">«Эксперт</span> <span style=\"background-color: #FF9A9A\">РА»</span> <span style=\"background-color: #FFA2A2\">присвоило</span> <span style=\"background-color: #FFF8F8\">рейтинг</span> <span style=\"background-color: #FF3838\">кредитоспособности</span> <span style=\"background-color: #FF3434\">нефинансовой</span> <span style=\"background-color: #FFF8F8\">компании</span> <span style=\"background-color: #ECECFF\">ПАО</span> <span style=\"background-color: #FFB6B6\">«ФосАгро»</span> <span style=\"background-color: #FFFCFC\">на</span> <span style=\"background-color: #FCFCFF\">уровне</span> <span style=\"background-color: #FF4646\"><rating>.</span> <span style=\"background-color: #FFFEFE\">Прогноз</span> <span style=\"background-color: #FFFCFC\">по</span> <span style=\"background-color: #FFFEFE\">рейтингу</span> <span style=\"background-color: #FFFEFE\">–</span> <span style=\"background-color: #FFD6D6\">стабильный.</span> <span style=\"background-color: #FFB0B0\">\")</span> <span style=\"background-color: #FFE0E0\">Группа</span> <span style=\"background-color: #FFB2B2\">«ФосАгро»</span> <span style=\"background-color: #FCFCFF\">является</span> <span style=\"background-color: #FCFCFF\">одним</span> <span style=\"background-color: #FFF8F8\">из</span> <span style=\"background-color: #FFF8F8\">ведущих</span> <span style=\"background-color: #FEFEFF\">в</span> <span style=\"background-color: #F6F6FF\">мире</span> <span style=\"background-color: #FFE0E0\">производителей</span> <span style=\"background-color: #FF9C9C\">минеральных</span> <span style=\"background-color: #F3F3FF\">удобрений</span> <span style=\"background-color: #FFFCFC\">на</span> <span style=\"background-color: #E8E8FF\">фосфорной</span> <span style=\"background-color: #FFCACA\">основе,</span> <span style=\"background-color: #FCFCFF\">а</span> <span style=\"background-color: #FFFEFE\">также</span> <span style=\"background-color: #FFC6C6\">азотных</span> <span style=\"background-color: #FFE8E8\">и</span> <span style=\"background-color: #D3D3FF\">сложных</span> <span style=\"background-color: #FFD0D0\">удобрений.</span> <span style=\"background-color: #E8E8FF\">ПАО</span> <span style=\"background-color: #FFCACA\">«ФосАгро»</span> <span style=\"background-color: #FFF6F6\">(далее</span> <span style=\"background-color: #FFFEFE\">–</span> <span style=\"background-color: #FFE2E2\">компания)</span> <span style=\"background-color: #EEEEFF\">является</span> <span style=\"background-color: #FFFEFE\">материнской</span> <span style=\"background-color: #FFF8F8\">консолидирующей</span> <span style=\"background-color: #FEFEFF\">компанией</span> <span style=\"background-color: #FEFEFF\">для</span> <span style=\"background-color: #FF6464\">добывающих,</span> <span style=\"background-color: #FEFEFF\">производственных</span> <span style=\"background-color: #FAFAFF\">активов</span> <span style=\"background-color: #FFF8F8\">и</span> <span style=\"background-color: #FFF4F4\">сегмента</span> <span style=\"background-color: #FFE2E2\">дистрибуции</span> <span style=\"background-color: #FFF4F4\">Группы</span> <span style=\"background-color: #FFC6C6\">«ФосАгро»</span> <span style=\"background-color: #FFF6F6\">(далее</span> <span style=\"background-color: #FFFEFE\">–</span> <span style=\"background-color: #FF4444\">Группа).</span> <span style=\"background-color: #FFECEC\">Ключевым</span> <span style=\"background-color: #FFF6F6\">перерабатывающим</span> <span style=\"background-color: #FFE8E8\">активом</span> <span style=\"background-color: #FFF8F8\">Группы</span> <span style=\"background-color: #FEFEFF\">является</span> <span style=\"background-color: #FFF0F0\">АО</span> <span style=\"background-color: #FF6E6E\">«Апатит»</span> <span style=\"background-color: #FFFEFE\">в</span> <span style=\"background-color: #F3F3FF\">г.</span> <span style=\"background-color: #FFA2A2\">Череповец</span> <span style=\"background-color: #FEFEFF\">совместно</span> <span style=\"background-color: #FFFCFC\">с</span> <span style=\"background-color: #E2E2FF\">Балаковским</span> <span style=\"background-color: #F2F2FF\">и</span> <span style=\"background-color: #FF3030\">Волховским</span> <span style=\"background-color: #FFACAC\">филиалом.</span> <span style=\"background-color: #ECECFF\">Добыча</span> <span style=\"background-color: #FFDCDC\">фосфатного</span> <span style=\"background-color: #F2F2FF\">сырья</span> <span style=\"background-color: #FAFAFF\">осуществляется</span> <span style=\"background-color: #FFFCFC\">в</span> <span style=\"background-color: #FFBABA\">г.</span> <span style=\"background-color: #FF9E9E\">Кировск</span> <span style=\"background-color: #FFDEDE\">в</span> <span style=\"background-color: #FF8A8A\">Мурманской</span> <span style=\"background-color: #FF7474\">области.</span> <span style=\"background-color: #FFAAAA\">Риск-профиль</span> <span style=\"background-color: #FFF2F2\">отрасли</span> <span style=\"background-color: #FFFCFC\">оказывает</span> <span style=\"background-color: #FFF4F4\">поддержку</span> <span style=\"background-color: #FFF8F8\">уровню</span> <span style=\"background-color: #FFC6C6\">рейтинга.</span> <span style=\"background-color: #FEFEFF\">Оценка</span> <span style=\"background-color: #FEFEFF\">устойчивости</span> <span style=\"background-color: #FFFEFE\">к</span> <span style=\"background-color: #FFFAFA\">внешним</span> <span style=\"background-color: #FFBEBE\">шокам</span> <span style=\"background-color: #FFFCFC\">ограничивается</span> <span style=\"background-color: #FFFCFC\">высокой</span> <span style=\"background-color: #FFCECE\">волатильностью</span> <span style=\"background-color: #FFF8F8\">цен</span> <span style=\"background-color: #FFDEDE\">на</span> <span style=\"background-color: #FFB3B3\">минеральные</span> <span style=\"background-color: #F3F3FF\">удобрения,</span> <span style=\"background-color: #FFFEFE\">при</span> <span style=\"background-color: #FFFEFE\">этом</span> <span style=\"background-color: #FAFAFF\">исторически</span> <span style=\"background-color: #FFF2F2\">Группа</span> <span style=\"background-color: #F0F0FF\">демонстрирует</span> <span style=\"background-color: #EEEEFF\">сильные</span> <span style=\"background-color: #FFE4E4\">операционные</span> <span style=\"background-color: #FEFEFF\">и</span> <span style=\"background-color: #FFFEFE\">финансовые</span> <span style=\"background-color: #FFF4F4\">результаты,</span> <span style=\"background-color: #FAFAFF\">а</span> <span style=\"background-color: #FFFAFA\">также</span> <span style=\"background-color: #FEFEFF\">поддерживает</span> <span style=\"background-color: #FEFEFF\">относительно</span> <span style=\"background-color: #FCFCFF\">низкую</span> <span style=\"background-color: #FFE8E8\">долговую</span> <span style=\"background-color: #FFE6E6\">нагрузку,</span> <span style=\"background-color: #FFFEFE\">в</span> <span style=\"background-color: #FEFEFF\">том</span> <span style=\"background-color: #FFFEFE\">числе</span> <span style=\"background-color: #FEFEFF\">и</span> <span style=\"background-color: #FFFEFE\">в</span> <span style=\"background-color: #FFFCFC\">периоды</span> <span style=\"background-color: #FFF0F0\">негативной</span> <span style=\"background-color: #F3F3FF\">ценовой</span> <span style=\"background-color: #FFFAFA\">конъюнктуры.</span> <span style=\"background-color: #FFF8F8\">Показатели</span> <span style=\"background-color: #FAFAFF\">рентабельности</span> <span style=\"background-color: #FFF4F4\">Группы</span> <span style=\"background-color: #FEFEFF\">находятся</span> <span style=\"background-color: #FFFAFA\">на</span> <span style=\"background-color: #FCFCFF\">уровне</span> <span style=\"background-color: #FFECEC\">выше</span> <span style=\"background-color: #FFA3A3\">среднерыночных</span> <span style=\"background-color: #F2F2FF\">и</span> <span style=\"background-color: #FFF6F6\">сопоставимы</span> <span style=\"background-color: #FFFAFA\">с</span> <span style=\"background-color: #F2F2FF\">мировыми</span> <span style=\"background-color: #FFFAFA\">лидерами</span> <span style=\"background-color: #FFF6F6\">отрасли.</span> <span style=\"background-color: #FFF2F2\">Агентство</span> <span style=\"background-color: #FFFEFE\">отмечает</span> <span style=\"background-color: #FFF4F4\">невысокую</span> <span style=\"background-color: #FAFAFF\">степень</span> <span style=\"background-color: #FFFEFE\">влияния</span> <span style=\"background-color: #FCFCFF\">геополитических</span> <span style=\"background-color: #FFF6F6\">ограничений</span> <span style=\"background-color: #FFFAFA\">на</span> <span style=\"background-color: #FFF8F8\">деятельность</span> <span style=\"background-color: #FFEEEE\">Группы</span> <span style=\"background-color: #FFFEFE\">ввиду</span> <span style=\"background-color: #FFFEFE\">обеспечения</span> <span style=\"background-color: #FFFEFE\">отраслью</span> <span style=\"background-color: #FFFEFE\">минеральных</span> <span style=\"background-color: #FFFEFE\">удобрений</span> <span style=\"background-color: #FFFEFE\">мировой</span> <span style=\"background-color: #FFFEFE\">продовольственной</span> <span style=\"background-color: #FFFEFE\">безопасности.</span> <span style=\"background-color: #FFFEFE\">Высокая</span> <span style=\"background-color: #FFFEFE\">степень</span> <span style=\"background-color: #FFFEFE\">географической</span> <span style=\"background-color: #FFFEFE\">диверсификации</span> <span style=\"background-color: #FFFEFE\">снижает</span> <span style=\"background-color: #FFFEFE\">риски</span> <span style=\"background-color: #FFFEFE\">падения</span> <span style=\"background-color: #FFFEFE\">общих</span> <span style=\"background-color: #FFFEFE\">объемов</span> <span style=\"background-color: #FFFEFE\">продаж</span> <span style=\"background-color: #FFFEFE\">в</span> <span style=\"background-color: #FFFEFE\">отдельных</span> <span style=\"background-color: #FFFEFE\">регионах.</span> <span style=\"background-color: #FFFEFE\">Группе</span> <span style=\"background-color: #FFFEFE\">в</span> <span style=\"background-color: #FFFEFE\">значительной</span> <span style=\"background-color: #FFFEFE\">мере</span> <span style=\"background-color: #FFFEFE\">удалось</span> <span style=\"background-color: #FFFEFE\">сохранить</span> <span style=\"background-color: #FFFEFE\">цепочки</span> <span style=\"background-color: #FFFEFE\">поставок</span> <span style=\"background-color: #FFFEFE\">в</span> <span style=\"background-color: #FFFEFE\">условиях</span> <span style=\"background-color: #FFFEFE\">геополитической</span> <span style=\"background-color: #FFFEFE\">напряженности,</span> <span style=\"background-color: #FFFEFE\">также</span> <span style=\"background-color: #FFFEFE\">частично</span> <span style=\"background-color: #FFFEFE\">продукция</span> <span style=\"background-color: #FFFEFE\">была</span> <span style=\"background-color: #FFFEFE\">перенаправлена</span> <span style=\"background-color: #FFFEFE\">на</span> <span style=\"background-color: #FFFEFE\">другие</span> <span style=\"background-color: #FFFEFE\">рынки</span> <span style=\"background-color: #FFFEFE\">сбыта,</span> <span style=\"background-color: #FFFEFE\">в</span> <span style=\"background-color: #FFFEFE\">частности,</span> <span style=\"background-color: #FFFEFE\">значительно</span> <span style=\"background-color: #FFFEFE\">выросла</span> <span style=\"background-color: #FFFEFE\">доля</span> <span style=\"background-color: #FFFEFE\">Индии.</span> <span style=\"background-color: #FFFEFE\">За</span> <span style=\"background-color: #FFFEFE\">отчетный</span> <span style=\"background-color: #FFFEFE\">период</span> <span style=\"background-color: #FFFEFE\">Группа</span> <span style=\"background-color: #FFFEFE\">нарастила</span> <span style=\"background-color: #FFFEFE\">объем</span> <span style=\"background-color: #FFFEFE\">продаж</span> <span style=\"background-color: #FFFEFE\">минеральных</span> <span style=\"background-color: #FFFEFE\">удобрений</span> <span style=\"background-color: #FFFEFE\">в</span> <span style=\"background-color: #FFFEFE\">натуральном</span> <span style=\"background-color: #FFFEFE\">выражении</span> <span style=\"background-color: #FFFEFE\">на</span> <span style=\"background-color: #FFFEFE\">6,8%,</span> <span style=\"background-color: #FFFEFE\">что</span> <span style=\"background-color: #FFFEFE\">свидетельствует</span> <span style=\"background-color: #FFFEFE\">об</span> <span style=\"background-color: #FFFEFE\">устойчивости</span> <span style=\"background-color: #FFFEFE\">поставок</span> <span style=\"background-color: #FFFEFE\">в</span> <span style=\"background-color: #FFFEFE\">условиях</span> <span style=\"background-color: #FFFEFE\">макроэкономических</span> <span style=\"background-color: #FFFEFE\">шоков.</span> <span style=\"background-color: #FFFEFE\">Барьеры</span> <span style=\"background-color: #FFFEFE\">для</span> <span style=\"background-color: #FFFEFE\">входа</span> <span style=\"background-color: #FFFEFE\">в</span> <span style=\"background-color: #FFFEFE\">отрасль</span> <span style=\"background-color: #FFFEFE\">Группы</span> <span style=\"background-color: #FFFEFE\">оцениваются</span> <span style=\"background-color: #FFFEFE\">как</span> <span style=\"background-color: #FFFEFE\">высокие</span> <span style=\"background-color: #FFFEFE\">исходя</span> <span style=\"background-color: #FFFEFE\">из</span> <span style=\"background-color: #FFFEFE\">уровня</span> <span style=\"background-color: #FFFEFE\">капиталоемкости</span> <span style=\"background-color: #FFFEFE\">производства.</span> <span style=\"background-color: #FFFEFE\">Согласно</span></p>"
            ]
          },
          "metadata": {}
        }
      ]
    },
    {
      "cell_type": "code",
      "source": [
        "tokens_and_weights"
      ],
      "metadata": {
        "colab": {
          "base_uri": "https://localhost:8080/"
        },
        "id": "g_pmGC9L1ju6",
        "outputId": "d66f5992-dac7-4824-c50b-6bbf3aef52ed"
      },
      "execution_count": null,
      "outputs": [
        {
          "output_type": "execute_result",
          "data": {
            "text/plain": [
              "[('«Эксперт', tensor(-0.1911)),\n",
              " ('РА»', tensor(-0.1752)),\n",
              " ('присвоил', tensor(-0.0146)),\n",
              " ('кредитный', tensor(-0.0089)),\n",
              " ('рейтинг', tensor(-0.0084)),\n",
              " ('ПАО', tensor(0.0531)),\n",
              " ('«ФосАгро»', tensor(0.0016)),\n",
              " ('на', tensor(-0.0030)),\n",
              " ('уровне', tensor(0.0106)),\n",
              " ('<rating>', tensor(-0.2350)),\n",
              " ('Москва,', tensor(-0.0788)),\n",
              " ('30', tensor(0.0028)),\n",
              " ('марта', tensor(0.0064)),\n",
              " ('2023', tensor(0.0079)),\n",
              " ('г.', tensor(-0.0734)),\n",
              " ('Рейтинговое', tensor(-0.1027)),\n",
              " ('агентство', tensor(-0.0134)),\n",
              " ('«Эксперт', tensor(-0.0887)),\n",
              " ('РА»', tensor(-0.0835)),\n",
              " ('присвоило', tensor(-0.0756)),\n",
              " ('рейтинг', tensor(-0.0055)),\n",
              " ('кредитоспособности', tensor(-0.2077)),\n",
              " ('нефинансовой', tensor(-0.2173)),\n",
              " ('компании', tensor(-0.0052)),\n",
              " ('ПАО', tensor(0.0143)),\n",
              " ('«ФосАгро»', tensor(-0.0588)),\n",
              " ('на', tensor(-0.0023)),\n",
              " ('уровне', tensor(0.0026)),\n",
              " ('<rating>.', tensor(-0.1842)),\n",
              " ('Прогноз', tensor(-0.0009)),\n",
              " ('по', tensor(-0.0024)),\n",
              " ('рейтингу', tensor(-0.0003)),\n",
              " ('–', tensor(0.)),\n",
              " ('стабильный.', tensor(-0.0329)),\n",
              " ('\")', tensor(-0.0644)),\n",
              " ('Группа', tensor(-0.0237)),\n",
              " ('«ФосАгро»', tensor(-0.0625)),\n",
              " ('является', tensor(0.0022)),\n",
              " ('одним', tensor(0.0019)),\n",
              " ('из', tensor(-0.0053)),\n",
              " ('ведущих', tensor(-0.0053)),\n",
              " ('в', tensor(0.0001)),\n",
              " ('мире', tensor(0.0071)),\n",
              " ('производителей', tensor(-0.0239)),\n",
              " ('минеральных', tensor(-0.0816)),\n",
              " ('удобрений', tensor(0.0082)),\n",
              " ('на', tensor(-0.0030)),\n",
              " ('фосфорной', tensor(0.0186)),\n",
              " ('основе,', tensor(-0.0423)),\n",
              " ('а', tensor(0.0020)),\n",
              " ('также', tensor(-0.0004)),\n",
              " ('азотных', tensor(-0.0454)),\n",
              " ('и', tensor(-0.0175)),\n",
              " ('сложных', tensor(0.0334)),\n",
              " ('удобрений.', tensor(-0.0373)),\n",
              " ('ПАО', tensor(0.0182)),\n",
              " ('«ФосАгро»', tensor(-0.0425)),\n",
              " ('(далее', tensor(-0.0070)),\n",
              " ('–', tensor(0.)),\n",
              " ('компания)', tensor(-0.0222)),\n",
              " ('является', tensor(0.0139)),\n",
              " ('материнской', tensor(-0.0010)),\n",
              " ('консолидирующей', tensor(-0.0060)),\n",
              " ('компанией', tensor(9.8705e-05)),\n",
              " ('для', tensor(0.0014)),\n",
              " ('добывающих,', tensor(-0.1415)),\n",
              " ('производственных', tensor(0.0012)),\n",
              " ('активов', tensor(0.0035)),\n",
              " ('и', tensor(-0.0048)),\n",
              " ('сегмента', tensor(-0.0091)),\n",
              " ('дистрибуции', tensor(-0.0232)),\n",
              " ('Группы', tensor(-0.0092)),\n",
              " ('«ФосАгро»', tensor(-0.0456)),\n",
              " ('(далее', tensor(-0.0070)),\n",
              " ('–', tensor(0.)),\n",
              " ('Группа).', tensor(-0.1848)),\n",
              " ('Ключевым', tensor(-0.0154)),\n",
              " ('перерабатывающим', tensor(-0.0071)),\n",
              " ('активом', tensor(-0.0175)),\n",
              " ('Группы', tensor(-0.0056)),\n",
              " ('является', tensor(0.0011)),\n",
              " ('АО', tensor(-0.0122)),\n",
              " ('«Апатит»', tensor(-0.1291)),\n",
              " ('в', tensor(-0.0008)),\n",
              " ('г.', tensor(0.0092)),\n",
              " ('Череповец', tensor(-0.0757)),\n",
              " ('совместно', tensor(0.0013)),\n",
              " ('с', tensor(-0.0028)),\n",
              " ('Балаковским', tensor(0.0229)),\n",
              " ('и', tensor(0.0103)),\n",
              " ('Волховским', tensor(-0.2251)),\n",
              " ('филиалом.', tensor(-0.0675)),\n",
              " ('Добыча', tensor(0.0155)),\n",
              " ('фосфатного', tensor(-0.0272)),\n",
              " ('сырья', tensor(0.0102)),\n",
              " ('осуществляется', tensor(0.0046)),\n",
              " ('в', tensor(-0.0017)),\n",
              " ('г.', tensor(-0.0547)),\n",
              " ('Кировск', tensor(-0.0798)),\n",
              " ('в', tensor(-0.0262)),\n",
              " ('Мурманской', tensor(-0.0980)),\n",
              " ('области.', tensor(-0.1215)),\n",
              " ('Риск-профиль', tensor(-0.0695)),\n",
              " ('отрасли', tensor(-0.0103)),\n",
              " ('оказывает', tensor(-0.0021)),\n",
              " ('поддержку', tensor(-0.0089)),\n",
              " ('уровню', tensor(-0.0062)),\n",
              " ('рейтинга.', tensor(-0.0445)),\n",
              " ('Оценка', tensor(0.0012)),\n",
              " ('устойчивости', tensor(0.0004)),\n",
              " ('к', tensor(-0.0005)),\n",
              " ('внешним', tensor(-0.0038)),\n",
              " ('шокам', tensor(-0.0526)),\n",
              " ('ограничивается', tensor(-0.0028)),\n",
              " ('высокой', tensor(-0.0018)),\n",
              " ('волатильностью', tensor(-0.0380)),\n",
              " ('цен', tensor(-0.0057)),\n",
              " ('на', tensor(-0.0254)),\n",
              " ('минеральные', tensor(-0.0598)),\n",
              " ('удобрения,', tensor(0.0080)),\n",
              " ('при', tensor(-0.0005)),\n",
              " ('этом', tensor(-0.0003)),\n",
              " ('исторически', tensor(0.0033)),\n",
              " ('Группа', tensor(-0.0098)),\n",
              " ('демонстрирует', tensor(0.0119)),\n",
              " ('сильные', tensor(0.0131)),\n",
              " ('операционные', tensor(-0.0219)),\n",
              " ('и', tensor(0.0009)),\n",
              " ('финансовые', tensor(-0.0007)),\n",
              " ('результаты,', tensor(-0.0081)),\n",
              " ('а', tensor(0.0040)),\n",
              " ('также', tensor(-0.0040)),\n",
              " ('поддерживает', tensor(0.0015)),\n",
              " ('относительно', tensor(0.0006)),\n",
              " ('низкую', tensor(0.0029)),\n",
              " ('долговую', tensor(-0.0178)),\n",
              " ('нагрузку,', tensor(-0.0200)),\n",
              " ('в', tensor(-0.0010)),\n",
              " ('том', tensor(0.0002)),\n",
              " ('числе', tensor(-0.0014)),\n",
              " ('и', tensor(0.0001)),\n",
              " ('в', tensor(-0.0001)),\n",
              " ('периоды', tensor(-0.0023)),\n",
              " ('негативной', tensor(-0.0110)),\n",
              " ('ценовой', tensor(0.0091)),\n",
              " ('конъюнктуры.', tensor(-0.0032)),\n",
              " ('Показатели', tensor(-0.0058)),\n",
              " ('рентабельности', tensor(0.0037)),\n",
              " ('Группы', tensor(-0.0085)),\n",
              " ('находятся', tensor(0.0009)),\n",
              " ('на', tensor(-0.0032)),\n",
              " ('уровне', tensor(0.0020)),\n",
              " ('выше', tensor(-0.0152)),\n",
              " ('среднерыночных', tensor(-0.0745)),\n",
              " ('и', tensor(0.0099)),\n",
              " ('сопоставимы', tensor(-0.0064)),\n",
              " ('с', tensor(-0.0034)),\n",
              " ('мировыми', tensor(0.0109)),\n",
              " ('лидерами', tensor(-0.0035)),\n",
              " ('отрасли.', tensor(-0.0069)),\n",
              " ('Агентство', tensor(-0.0107)),\n",
              " ('отмечает', tensor(-0.0001)),\n",
              " ('невысокую', tensor(-0.0089)),\n",
              " ('степень', tensor(0.0037)),\n",
              " ('влияния', tensor(-0.0013)),\n",
              " ('геополитических', tensor(0.0027)),\n",
              " ('ограничений', tensor(-0.0067)),\n",
              " ('на', tensor(-0.0046)),\n",
              " ('деятельность', tensor(-0.0050)),\n",
              " ('Группы', tensor(-0.0126)),\n",
              " ('ввиду', tensor(0.)),\n",
              " ('обеспечения', tensor(0.)),\n",
              " ('отраслью', tensor(0.)),\n",
              " ('минеральных', tensor(0.)),\n",
              " ('удобрений', tensor(0.)),\n",
              " ('мировой', tensor(0.)),\n",
              " ('продовольственной', tensor(0.)),\n",
              " ('безопасности.', tensor(0.)),\n",
              " ('Высокая', tensor(0.)),\n",
              " ('степень', tensor(0.)),\n",
              " ('географической', tensor(0.)),\n",
              " ('диверсификации', tensor(0.)),\n",
              " ('снижает', tensor(0.)),\n",
              " ('риски', tensor(0.)),\n",
              " ('падения', tensor(0.)),\n",
              " ('общих', tensor(0.)),\n",
              " ('объемов', tensor(0.)),\n",
              " ('продаж', tensor(0.)),\n",
              " ('в', tensor(0.)),\n",
              " ('отдельных', tensor(0.)),\n",
              " ('регионах.', tensor(0.)),\n",
              " ('Группе', tensor(0.)),\n",
              " ('в', tensor(0.)),\n",
              " ('значительной', tensor(0.)),\n",
              " ('мере', tensor(0.)),\n",
              " ('удалось', tensor(0.)),\n",
              " ('сохранить', tensor(0.)),\n",
              " ('цепочки', tensor(0.)),\n",
              " ('поставок', tensor(0.)),\n",
              " ('в', tensor(0.)),\n",
              " ('условиях', tensor(0.)),\n",
              " ('геополитической', tensor(0.)),\n",
              " ('напряженности,', tensor(0.)),\n",
              " ('также', tensor(0.)),\n",
              " ('частично', tensor(0.)),\n",
              " ('продукция', tensor(0.)),\n",
              " ('была', tensor(0.)),\n",
              " ('перенаправлена', tensor(0.)),\n",
              " ('на', tensor(0.)),\n",
              " ('другие', tensor(0.)),\n",
              " ('рынки', tensor(0.)),\n",
              " ('сбыта,', tensor(0.)),\n",
              " ('в', tensor(0.)),\n",
              " ('частности,', tensor(0.)),\n",
              " ('значительно', tensor(0.)),\n",
              " ('выросла', tensor(0.)),\n",
              " ('доля', tensor(0.)),\n",
              " ('Индии.', tensor(0.)),\n",
              " ('За', tensor(0.)),\n",
              " ('отчетный', tensor(0.)),\n",
              " ('период', tensor(0.)),\n",
              " ('Группа', tensor(0.)),\n",
              " ('нарастила', tensor(0.)),\n",
              " ('объем', tensor(0.)),\n",
              " ('продаж', tensor(0.)),\n",
              " ('минеральных', tensor(0.)),\n",
              " ('удобрений', tensor(0.)),\n",
              " ('в', tensor(0.)),\n",
              " ('натуральном', tensor(0.)),\n",
              " ('выражении', tensor(0.)),\n",
              " ('на', tensor(0.)),\n",
              " ('6,8%,', tensor(0.)),\n",
              " ('что', tensor(0.)),\n",
              " ('свидетельствует', tensor(0.)),\n",
              " ('об', tensor(0.)),\n",
              " ('устойчивости', tensor(0.)),\n",
              " ('поставок', tensor(0.)),\n",
              " ('в', tensor(0.)),\n",
              " ('условиях', tensor(0.)),\n",
              " ('макроэкономических', tensor(0.)),\n",
              " ('шоков.', tensor(0.)),\n",
              " ('Барьеры', tensor(0.)),\n",
              " ('для', tensor(0.)),\n",
              " ('входа', tensor(0.)),\n",
              " ('в', tensor(0.)),\n",
              " ('отрасль', tensor(0.)),\n",
              " ('Группы', tensor(0.)),\n",
              " ('оцениваются', tensor(0.)),\n",
              " ('как', tensor(0.)),\n",
              " ('высокие', tensor(0.)),\n",
              " ('исходя', tensor(0.)),\n",
              " ('из', tensor(0.)),\n",
              " ('уровня', tensor(0.)),\n",
              " ('капиталоемкости', tensor(0.)),\n",
              " ('производства.', tensor(0.)),\n",
              " ('Согласно', tensor(0.))]"
            ]
          },
          "metadata": {},
          "execution_count": 100
        }
      ]
    },
    {
      "cell_type": "code",
      "source": [
        "def convert_from_torch_to_onnx(\n",
        "        onnx_path: str,\n",
        "        tokenizer: BertTokenizer,\n",
        "        model: BertForSequenceClassification\n",
        ") -> None:\n",
        "    \"\"\"Конвертация модели из формата PyTorch в формат ONNX.\n",
        "\n",
        "    @param onnx_path: путь к модели в формате ONNX\n",
        "    @param tokenizer: токенизатор\n",
        "    @param model: модель\n",
        "    \"\"\"\n",
        "    dummy_model_input = tokenizer(\n",
        "        \"текст для конвертации\",\n",
        "        padding=\"max_length\",\n",
        "        truncation=True,\n",
        "        max_length=512,\n",
        "        return_tensors=\"pt\",\n",
        "    ).to(\"cuda\")\n",
        "    torch.onnx.export(\n",
        "        model,\n",
        "        dummy_model_input[\"input_ids\"],\n",
        "        onnx_path,\n",
        "        opset_version=12,\n",
        "        input_names=[\"input_ids\"],\n",
        "        output_names=[\"output\"],\n",
        "        dynamic_axes={\n",
        "            \"input_ids\": {\n",
        "                0: \"batch_size\",\n",
        "                1: \"sequence_len\"\n",
        "            },\n",
        "            \"output\": {\n",
        "                0: \"batch_size\"\n",
        "            }\n",
        "        }\n",
        "    )\n"
      ],
      "metadata": {
        "id": "BYSQxKwgv54c"
      },
      "execution_count": null,
      "outputs": []
    },
    {
      "cell_type": "code",
      "source": [
        "convert_from_torch_to_onnx('rubert-tiny2-cat-7764.onnx', tokenizer, model)"
      ],
      "metadata": {
        "colab": {
          "base_uri": "https://localhost:8080/"
        },
        "id": "ZGDtpQnE5DTv",
        "outputId": "0cadd3ec-cef8-410a-890b-b55c34062ee0"
      },
      "execution_count": null,
      "outputs": [
        {
          "output_type": "stream",
          "name": "stdout",
          "text": [
            "============= Diagnostic Run torch.onnx.export version 2.0.1+cu118 =============\n",
            "verbose: False, log level: Level.ERROR\n",
            "======================= 0 NONE 0 NOTE 0 WARNING 0 ERROR ========================\n",
            "\n"
          ]
        }
      ]
    },
    {
      "cell_type": "code",
      "source": [],
      "metadata": {
        "id": "bXSdf9Bp6C-E"
      },
      "execution_count": null,
      "outputs": []
    },
    {
      "cell_type": "code",
      "source": [
        "from onnxruntime.quantization import (\n",
        "    quantize_dynamic,\n",
        "    QuantType\n",
        ")\n",
        "\n",
        "def convert_from_onnx_to_quantized_onnx(\n",
        "        onnx_model_path: str,\n",
        "        quantized_onnx_model_path: str\n",
        ") -> None:\n",
        "    \"\"\"Квантизация модели в формате ONNX до Int8\n",
        "    и сохранение кванитизированной модели на диск.\n",
        "\n",
        "    @param onnx_model_path: путь к модели в формате ONNX\n",
        "    @param quantized_onnx_model_path: путь к квантизированной модели\n",
        "    \"\"\"\n",
        "    quantize_dynamic(\n",
        "        onnx_model_path,\n",
        "        quantized_onnx_model_path,\n",
        "        weight_type=QuantType.QUInt8\n",
        "    )"
      ],
      "metadata": {
        "id": "pD6AtlLKrYm-"
      },
      "execution_count": null,
      "outputs": []
    },
    {
      "cell_type": "code",
      "source": [
        "convert_from_onnx_to_quantized_onnx('rubert-tiny2-cat-7764.onnx', 'rubert-tiny2-cat-7764-quant.onnx')"
      ],
      "metadata": {
        "colab": {
          "base_uri": "https://localhost:8080/"
        },
        "id": "VrNamFmQ53Dq",
        "outputId": "243d87cf-c876-46f1-bc53-6b584fd0ed69"
      },
      "execution_count": null,
      "outputs": [
        {
          "output_type": "stream",
          "name": "stdout",
          "text": [
            "Ignore MatMul due to non constant B: /[/bert/encoder/layer.0/attention/self/MatMul]\n",
            "Ignore MatMul due to non constant B: /[/bert/encoder/layer.0/attention/self/MatMul_1]\n",
            "Ignore MatMul due to non constant B: /[/bert/encoder/layer.1/attention/self/MatMul]\n",
            "Ignore MatMul due to non constant B: /[/bert/encoder/layer.1/attention/self/MatMul_1]\n",
            "Ignore MatMul due to non constant B: /[/bert/encoder/layer.2/attention/self/MatMul]\n",
            "Ignore MatMul due to non constant B: /[/bert/encoder/layer.2/attention/self/MatMul_1]\n"
          ]
        }
      ]
    },
    {
      "cell_type": "code",
      "source": [
        "import onnxruntime\n",
        "from onnxruntime import (\n",
        "    InferenceSession,\n",
        "    SessionOptions\n",
        ")\n",
        "\n",
        "\n",
        "def create_onnx_session(\n",
        "        model_path: str,\n",
        "        provider: str = \"CPUExecutionProvider\"\n",
        ") -> InferenceSession:\n",
        "    \"\"\"Создание сессии для инференса модели с помощью ONNX Runtime.\n",
        "\n",
        "    @param model_path: путь к модели в формате ONNX\n",
        "    @param provider: инференс на ЦП\n",
        "    @return: ONNX Runtime-сессия\n",
        "    \"\"\"\n",
        "    options = SessionOptions()\n",
        "    options.graph_optimization_level = \\\n",
        "        onnxruntime.GraphOptimizationLevel.ORT_ENABLE_ALL\n",
        "    session = InferenceSession(model_path, options, providers=[provider])\n",
        "    session.disable_fallback()\n",
        "    return session"
      ],
      "metadata": {
        "id": "am9zrBXl58Ri"
      },
      "execution_count": null,
      "outputs": []
    },
    {
      "cell_type": "code",
      "source": [
        "sess = create_onnx_session('rubert-tiny2-cat-7764-quant.onnx')"
      ],
      "metadata": {
        "id": "hiSHRdRt6dDA"
      },
      "execution_count": null,
      "outputs": []
    },
    {
      "cell_type": "code",
      "source": [
        "def onnx_inference(\n",
        "        text: str,\n",
        "        session: InferenceSession,\n",
        "        tokenizer: BertTokenizer,\n",
        "        max_length: int\n",
        ") -> np.ndarray:\n",
        "    \"\"\"Инференс модели с помощью ONNX Runtime.\n",
        "\n",
        "    @param text: входной текст для классификации\n",
        "    @param session: ONNX Runtime-сессия\n",
        "    @param tokenizer: токенизатор\n",
        "    @param max_length: максимальная длина последовательности в токенах\n",
        "    @return: логиты на выходе из модели\n",
        "    \"\"\"\n",
        "    inputs = tokenizer(\n",
        "        text,\n",
        "        padding=\"max_length\",\n",
        "        truncation=True,\n",
        "        max_length=max_length,\n",
        "        return_tensors=\"np\",\n",
        "    )\n",
        "    input_feed = {\n",
        "        \"input_ids\": inputs[\"input_ids\"].astype(np.int64)\n",
        "    }\n",
        "    outputs = session.run(\n",
        "        output_names=[\"output\"],\n",
        "        input_feed=input_feed\n",
        "    )[0]\n",
        "    return outputs"
      ],
      "metadata": {
        "id": "_4DeHDlW6h9l"
      },
      "execution_count": null,
      "outputs": []
    },
    {
      "cell_type": "code",
      "source": [
        "onnx_inference(X_test[1], sess, tokenizer, maxSequenceLength)"
      ],
      "metadata": {
        "colab": {
          "base_uri": "https://localhost:8080/"
        },
        "id": "mPF9FIAf6qnR",
        "outputId": "81aec67d-b70a-414d-a2b5-54f0d9edc820"
      },
      "execution_count": null,
      "outputs": [
        {
          "output_type": "execute_result",
          "data": {
            "text/plain": [
              "array([[-0.22926746, -3.3321743 ,  7.558688  , -4.4215283 ,  2.0707202 ,\n",
              "        -0.39730626,  0.26195222]], dtype=float32)"
            ]
          },
          "metadata": {},
          "execution_count": 118
        }
      ]
    }
  ],
  "metadata": {
    "colab": {
      "provenance": []
    },
    "kernelspec": {
      "display_name": "Python 3",
      "name": "python3"
    },
    "language_info": {
      "name": "python"
    },
    "widgets": {
      "application/vnd.jupyter.widget-state+json": {
        "33e22e9d65de417dbbfacc0b4626590c": {
          "model_module": "@jupyter-widgets/controls",
          "model_name": "HBoxModel",
          "model_module_version": "2.0.0",
          "state": {
            "_dom_classes": [],
            "_model_module": "@jupyter-widgets/controls",
            "_model_module_version": "2.0.0",
            "_model_name": "HBoxModel",
            "_view_count": null,
            "_view_module": "@jupyter-widgets/controls",
            "_view_module_version": "2.0.0",
            "_view_name": "HBoxView",
            "box_style": "",
            "children": [
              "IPY_MODEL_1920bd5a0cad4d9f980e5fa25ec7c26c",
              "IPY_MODEL_6a9ee8f3a4914614a51d41fd7aa68c2e",
              "IPY_MODEL_2400f9cc1bea442b9b24edc67bb54bfa"
            ],
            "layout": "IPY_MODEL_10392369ee3140d6a17b4688e3fc193a",
            "tabbable": null,
            "tooltip": null
          }
        },
        "1920bd5a0cad4d9f980e5fa25ec7c26c": {
          "model_module": "@jupyter-widgets/controls",
          "model_name": "HTMLModel",
          "model_module_version": "2.0.0",
          "state": {
            "_dom_classes": [],
            "_model_module": "@jupyter-widgets/controls",
            "_model_module_version": "2.0.0",
            "_model_name": "HTMLModel",
            "_view_count": null,
            "_view_module": "@jupyter-widgets/controls",
            "_view_module_version": "2.0.0",
            "_view_name": "HTMLView",
            "description": "",
            "description_allow_html": false,
            "layout": "IPY_MODEL_4250ad0c159643e88bb533c43ea076b2",
            "placeholder": "​",
            "style": "IPY_MODEL_f01a30e3ee90426b8f94583dfbafb0b0",
            "tabbable": null,
            "tooltip": null,
            "value": "Downloading (…)lve/main/config.json: 100%"
          }
        },
        "6a9ee8f3a4914614a51d41fd7aa68c2e": {
          "model_module": "@jupyter-widgets/controls",
          "model_name": "FloatProgressModel",
          "model_module_version": "2.0.0",
          "state": {
            "_dom_classes": [],
            "_model_module": "@jupyter-widgets/controls",
            "_model_module_version": "2.0.0",
            "_model_name": "FloatProgressModel",
            "_view_count": null,
            "_view_module": "@jupyter-widgets/controls",
            "_view_module_version": "2.0.0",
            "_view_name": "ProgressView",
            "bar_style": "success",
            "description": "",
            "description_allow_html": false,
            "layout": "IPY_MODEL_ede71ab2a87441329e71e4409eb49275",
            "max": 715,
            "min": 0,
            "orientation": "horizontal",
            "style": "IPY_MODEL_33f3ce7accda42faa8b6d74e2a5d1dca",
            "tabbable": null,
            "tooltip": null,
            "value": 715
          }
        },
        "2400f9cc1bea442b9b24edc67bb54bfa": {
          "model_module": "@jupyter-widgets/controls",
          "model_name": "HTMLModel",
          "model_module_version": "2.0.0",
          "state": {
            "_dom_classes": [],
            "_model_module": "@jupyter-widgets/controls",
            "_model_module_version": "2.0.0",
            "_model_name": "HTMLModel",
            "_view_count": null,
            "_view_module": "@jupyter-widgets/controls",
            "_view_module_version": "2.0.0",
            "_view_name": "HTMLView",
            "description": "",
            "description_allow_html": false,
            "layout": "IPY_MODEL_b295615843404537b4b95cea11c35181",
            "placeholder": "​",
            "style": "IPY_MODEL_aa36a2e3945a461fbf66195f62188140",
            "tabbable": null,
            "tooltip": null,
            "value": " 715/715 [00:00&lt;00:00, 37.3kB/s]"
          }
        },
        "10392369ee3140d6a17b4688e3fc193a": {
          "model_module": "@jupyter-widgets/base",
          "model_name": "LayoutModel",
          "model_module_version": "2.0.0",
          "state": {
            "_model_module": "@jupyter-widgets/base",
            "_model_module_version": "2.0.0",
            "_model_name": "LayoutModel",
            "_view_count": null,
            "_view_module": "@jupyter-widgets/base",
            "_view_module_version": "2.0.0",
            "_view_name": "LayoutView",
            "align_content": null,
            "align_items": null,
            "align_self": null,
            "border_bottom": null,
            "border_left": null,
            "border_right": null,
            "border_top": null,
            "bottom": null,
            "display": null,
            "flex": null,
            "flex_flow": null,
            "grid_area": null,
            "grid_auto_columns": null,
            "grid_auto_flow": null,
            "grid_auto_rows": null,
            "grid_column": null,
            "grid_gap": null,
            "grid_row": null,
            "grid_template_areas": null,
            "grid_template_columns": null,
            "grid_template_rows": null,
            "height": null,
            "justify_content": null,
            "justify_items": null,
            "left": null,
            "margin": null,
            "max_height": null,
            "max_width": null,
            "min_height": null,
            "min_width": null,
            "object_fit": null,
            "object_position": null,
            "order": null,
            "overflow": null,
            "padding": null,
            "right": null,
            "top": null,
            "visibility": null,
            "width": null
          }
        },
        "4250ad0c159643e88bb533c43ea076b2": {
          "model_module": "@jupyter-widgets/base",
          "model_name": "LayoutModel",
          "model_module_version": "2.0.0",
          "state": {
            "_model_module": "@jupyter-widgets/base",
            "_model_module_version": "2.0.0",
            "_model_name": "LayoutModel",
            "_view_count": null,
            "_view_module": "@jupyter-widgets/base",
            "_view_module_version": "2.0.0",
            "_view_name": "LayoutView",
            "align_content": null,
            "align_items": null,
            "align_self": null,
            "border_bottom": null,
            "border_left": null,
            "border_right": null,
            "border_top": null,
            "bottom": null,
            "display": null,
            "flex": null,
            "flex_flow": null,
            "grid_area": null,
            "grid_auto_columns": null,
            "grid_auto_flow": null,
            "grid_auto_rows": null,
            "grid_column": null,
            "grid_gap": null,
            "grid_row": null,
            "grid_template_areas": null,
            "grid_template_columns": null,
            "grid_template_rows": null,
            "height": null,
            "justify_content": null,
            "justify_items": null,
            "left": null,
            "margin": null,
            "max_height": null,
            "max_width": null,
            "min_height": null,
            "min_width": null,
            "object_fit": null,
            "object_position": null,
            "order": null,
            "overflow": null,
            "padding": null,
            "right": null,
            "top": null,
            "visibility": null,
            "width": null
          }
        },
        "f01a30e3ee90426b8f94583dfbafb0b0": {
          "model_module": "@jupyter-widgets/controls",
          "model_name": "HTMLStyleModel",
          "model_module_version": "2.0.0",
          "state": {
            "_model_module": "@jupyter-widgets/controls",
            "_model_module_version": "2.0.0",
            "_model_name": "HTMLStyleModel",
            "_view_count": null,
            "_view_module": "@jupyter-widgets/base",
            "_view_module_version": "2.0.0",
            "_view_name": "StyleView",
            "background": null,
            "description_width": "",
            "font_size": null,
            "text_color": null
          }
        },
        "ede71ab2a87441329e71e4409eb49275": {
          "model_module": "@jupyter-widgets/base",
          "model_name": "LayoutModel",
          "model_module_version": "2.0.0",
          "state": {
            "_model_module": "@jupyter-widgets/base",
            "_model_module_version": "2.0.0",
            "_model_name": "LayoutModel",
            "_view_count": null,
            "_view_module": "@jupyter-widgets/base",
            "_view_module_version": "2.0.0",
            "_view_name": "LayoutView",
            "align_content": null,
            "align_items": null,
            "align_self": null,
            "border_bottom": null,
            "border_left": null,
            "border_right": null,
            "border_top": null,
            "bottom": null,
            "display": null,
            "flex": null,
            "flex_flow": null,
            "grid_area": null,
            "grid_auto_columns": null,
            "grid_auto_flow": null,
            "grid_auto_rows": null,
            "grid_column": null,
            "grid_gap": null,
            "grid_row": null,
            "grid_template_areas": null,
            "grid_template_columns": null,
            "grid_template_rows": null,
            "height": null,
            "justify_content": null,
            "justify_items": null,
            "left": null,
            "margin": null,
            "max_height": null,
            "max_width": null,
            "min_height": null,
            "min_width": null,
            "object_fit": null,
            "object_position": null,
            "order": null,
            "overflow": null,
            "padding": null,
            "right": null,
            "top": null,
            "visibility": null,
            "width": null
          }
        },
        "33f3ce7accda42faa8b6d74e2a5d1dca": {
          "model_module": "@jupyter-widgets/controls",
          "model_name": "ProgressStyleModel",
          "model_module_version": "2.0.0",
          "state": {
            "_model_module": "@jupyter-widgets/controls",
            "_model_module_version": "2.0.0",
            "_model_name": "ProgressStyleModel",
            "_view_count": null,
            "_view_module": "@jupyter-widgets/base",
            "_view_module_version": "2.0.0",
            "_view_name": "StyleView",
            "bar_color": null,
            "description_width": ""
          }
        },
        "b295615843404537b4b95cea11c35181": {
          "model_module": "@jupyter-widgets/base",
          "model_name": "LayoutModel",
          "model_module_version": "2.0.0",
          "state": {
            "_model_module": "@jupyter-widgets/base",
            "_model_module_version": "2.0.0",
            "_model_name": "LayoutModel",
            "_view_count": null,
            "_view_module": "@jupyter-widgets/base",
            "_view_module_version": "2.0.0",
            "_view_name": "LayoutView",
            "align_content": null,
            "align_items": null,
            "align_self": null,
            "border_bottom": null,
            "border_left": null,
            "border_right": null,
            "border_top": null,
            "bottom": null,
            "display": null,
            "flex": null,
            "flex_flow": null,
            "grid_area": null,
            "grid_auto_columns": null,
            "grid_auto_flow": null,
            "grid_auto_rows": null,
            "grid_column": null,
            "grid_gap": null,
            "grid_row": null,
            "grid_template_areas": null,
            "grid_template_columns": null,
            "grid_template_rows": null,
            "height": null,
            "justify_content": null,
            "justify_items": null,
            "left": null,
            "margin": null,
            "max_height": null,
            "max_width": null,
            "min_height": null,
            "min_width": null,
            "object_fit": null,
            "object_position": null,
            "order": null,
            "overflow": null,
            "padding": null,
            "right": null,
            "top": null,
            "visibility": null,
            "width": null
          }
        },
        "aa36a2e3945a461fbf66195f62188140": {
          "model_module": "@jupyter-widgets/controls",
          "model_name": "HTMLStyleModel",
          "model_module_version": "2.0.0",
          "state": {
            "_model_module": "@jupyter-widgets/controls",
            "_model_module_version": "2.0.0",
            "_model_name": "HTMLStyleModel",
            "_view_count": null,
            "_view_module": "@jupyter-widgets/base",
            "_view_module_version": "2.0.0",
            "_view_name": "StyleView",
            "background": null,
            "description_width": "",
            "font_size": null,
            "text_color": null
          }
        },
        "a079cba6ee844fa89791b287e0f74289": {
          "model_module": "@jupyter-widgets/controls",
          "model_name": "HBoxModel",
          "model_module_version": "2.0.0",
          "state": {
            "_dom_classes": [],
            "_model_module": "@jupyter-widgets/controls",
            "_model_module_version": "2.0.0",
            "_model_name": "HBoxModel",
            "_view_count": null,
            "_view_module": "@jupyter-widgets/controls",
            "_view_module_version": "2.0.0",
            "_view_name": "HBoxView",
            "box_style": "",
            "children": [
              "IPY_MODEL_089acd983ff64b9482ebe917f314f286",
              "IPY_MODEL_6b110cc66e804e5493e6df53461090ec",
              "IPY_MODEL_ced11bda483440629a511a1f3326165d"
            ],
            "layout": "IPY_MODEL_849ffc2608214e5fb7fb00a9d251a9fd",
            "tabbable": null,
            "tooltip": null
          }
        },
        "089acd983ff64b9482ebe917f314f286": {
          "model_module": "@jupyter-widgets/controls",
          "model_name": "HTMLModel",
          "model_module_version": "2.0.0",
          "state": {
            "_dom_classes": [],
            "_model_module": "@jupyter-widgets/controls",
            "_model_module_version": "2.0.0",
            "_model_name": "HTMLModel",
            "_view_count": null,
            "_view_module": "@jupyter-widgets/controls",
            "_view_module_version": "2.0.0",
            "_view_name": "HTMLView",
            "description": "",
            "description_allow_html": false,
            "layout": "IPY_MODEL_3d4f2acb7f4f48fb91152bca2d45a188",
            "placeholder": "​",
            "style": "IPY_MODEL_ad1a9e7851014a7da748369d4e528c64",
            "tabbable": null,
            "tooltip": null,
            "value": "Downloading model.safetensors: 100%"
          }
        },
        "6b110cc66e804e5493e6df53461090ec": {
          "model_module": "@jupyter-widgets/controls",
          "model_name": "FloatProgressModel",
          "model_module_version": "2.0.0",
          "state": {
            "_dom_classes": [],
            "_model_module": "@jupyter-widgets/controls",
            "_model_module_version": "2.0.0",
            "_model_name": "FloatProgressModel",
            "_view_count": null,
            "_view_module": "@jupyter-widgets/controls",
            "_view_module_version": "2.0.0",
            "_view_name": "ProgressView",
            "bar_style": "success",
            "description": "",
            "description_allow_html": false,
            "layout": "IPY_MODEL_2e64025d8cf14a38a6e1a02377512736",
            "max": 117529600,
            "min": 0,
            "orientation": "horizontal",
            "style": "IPY_MODEL_f78e5ab963b7428e9e9b8706e114c7dc",
            "tabbable": null,
            "tooltip": null,
            "value": 117529600
          }
        },
        "ced11bda483440629a511a1f3326165d": {
          "model_module": "@jupyter-widgets/controls",
          "model_name": "HTMLModel",
          "model_module_version": "2.0.0",
          "state": {
            "_dom_classes": [],
            "_model_module": "@jupyter-widgets/controls",
            "_model_module_version": "2.0.0",
            "_model_name": "HTMLModel",
            "_view_count": null,
            "_view_module": "@jupyter-widgets/controls",
            "_view_module_version": "2.0.0",
            "_view_name": "HTMLView",
            "description": "",
            "description_allow_html": false,
            "layout": "IPY_MODEL_ebdb915844f84b08bb727979d8996dde",
            "placeholder": "​",
            "style": "IPY_MODEL_9711ed6badc34edd90ff77393f197966",
            "tabbable": null,
            "tooltip": null,
            "value": " 118M/118M [00:10&lt;00:00, 11.0MB/s]"
          }
        },
        "849ffc2608214e5fb7fb00a9d251a9fd": {
          "model_module": "@jupyter-widgets/base",
          "model_name": "LayoutModel",
          "model_module_version": "2.0.0",
          "state": {
            "_model_module": "@jupyter-widgets/base",
            "_model_module_version": "2.0.0",
            "_model_name": "LayoutModel",
            "_view_count": null,
            "_view_module": "@jupyter-widgets/base",
            "_view_module_version": "2.0.0",
            "_view_name": "LayoutView",
            "align_content": null,
            "align_items": null,
            "align_self": null,
            "border_bottom": null,
            "border_left": null,
            "border_right": null,
            "border_top": null,
            "bottom": null,
            "display": null,
            "flex": null,
            "flex_flow": null,
            "grid_area": null,
            "grid_auto_columns": null,
            "grid_auto_flow": null,
            "grid_auto_rows": null,
            "grid_column": null,
            "grid_gap": null,
            "grid_row": null,
            "grid_template_areas": null,
            "grid_template_columns": null,
            "grid_template_rows": null,
            "height": null,
            "justify_content": null,
            "justify_items": null,
            "left": null,
            "margin": null,
            "max_height": null,
            "max_width": null,
            "min_height": null,
            "min_width": null,
            "object_fit": null,
            "object_position": null,
            "order": null,
            "overflow": null,
            "padding": null,
            "right": null,
            "top": null,
            "visibility": null,
            "width": null
          }
        },
        "3d4f2acb7f4f48fb91152bca2d45a188": {
          "model_module": "@jupyter-widgets/base",
          "model_name": "LayoutModel",
          "model_module_version": "2.0.0",
          "state": {
            "_model_module": "@jupyter-widgets/base",
            "_model_module_version": "2.0.0",
            "_model_name": "LayoutModel",
            "_view_count": null,
            "_view_module": "@jupyter-widgets/base",
            "_view_module_version": "2.0.0",
            "_view_name": "LayoutView",
            "align_content": null,
            "align_items": null,
            "align_self": null,
            "border_bottom": null,
            "border_left": null,
            "border_right": null,
            "border_top": null,
            "bottom": null,
            "display": null,
            "flex": null,
            "flex_flow": null,
            "grid_area": null,
            "grid_auto_columns": null,
            "grid_auto_flow": null,
            "grid_auto_rows": null,
            "grid_column": null,
            "grid_gap": null,
            "grid_row": null,
            "grid_template_areas": null,
            "grid_template_columns": null,
            "grid_template_rows": null,
            "height": null,
            "justify_content": null,
            "justify_items": null,
            "left": null,
            "margin": null,
            "max_height": null,
            "max_width": null,
            "min_height": null,
            "min_width": null,
            "object_fit": null,
            "object_position": null,
            "order": null,
            "overflow": null,
            "padding": null,
            "right": null,
            "top": null,
            "visibility": null,
            "width": null
          }
        },
        "ad1a9e7851014a7da748369d4e528c64": {
          "model_module": "@jupyter-widgets/controls",
          "model_name": "HTMLStyleModel",
          "model_module_version": "2.0.0",
          "state": {
            "_model_module": "@jupyter-widgets/controls",
            "_model_module_version": "2.0.0",
            "_model_name": "HTMLStyleModel",
            "_view_count": null,
            "_view_module": "@jupyter-widgets/base",
            "_view_module_version": "2.0.0",
            "_view_name": "StyleView",
            "background": null,
            "description_width": "",
            "font_size": null,
            "text_color": null
          }
        },
        "2e64025d8cf14a38a6e1a02377512736": {
          "model_module": "@jupyter-widgets/base",
          "model_name": "LayoutModel",
          "model_module_version": "2.0.0",
          "state": {
            "_model_module": "@jupyter-widgets/base",
            "_model_module_version": "2.0.0",
            "_model_name": "LayoutModel",
            "_view_count": null,
            "_view_module": "@jupyter-widgets/base",
            "_view_module_version": "2.0.0",
            "_view_name": "LayoutView",
            "align_content": null,
            "align_items": null,
            "align_self": null,
            "border_bottom": null,
            "border_left": null,
            "border_right": null,
            "border_top": null,
            "bottom": null,
            "display": null,
            "flex": null,
            "flex_flow": null,
            "grid_area": null,
            "grid_auto_columns": null,
            "grid_auto_flow": null,
            "grid_auto_rows": null,
            "grid_column": null,
            "grid_gap": null,
            "grid_row": null,
            "grid_template_areas": null,
            "grid_template_columns": null,
            "grid_template_rows": null,
            "height": null,
            "justify_content": null,
            "justify_items": null,
            "left": null,
            "margin": null,
            "max_height": null,
            "max_width": null,
            "min_height": null,
            "min_width": null,
            "object_fit": null,
            "object_position": null,
            "order": null,
            "overflow": null,
            "padding": null,
            "right": null,
            "top": null,
            "visibility": null,
            "width": null
          }
        },
        "f78e5ab963b7428e9e9b8706e114c7dc": {
          "model_module": "@jupyter-widgets/controls",
          "model_name": "ProgressStyleModel",
          "model_module_version": "2.0.0",
          "state": {
            "_model_module": "@jupyter-widgets/controls",
            "_model_module_version": "2.0.0",
            "_model_name": "ProgressStyleModel",
            "_view_count": null,
            "_view_module": "@jupyter-widgets/base",
            "_view_module_version": "2.0.0",
            "_view_name": "StyleView",
            "bar_color": null,
            "description_width": ""
          }
        },
        "ebdb915844f84b08bb727979d8996dde": {
          "model_module": "@jupyter-widgets/base",
          "model_name": "LayoutModel",
          "model_module_version": "2.0.0",
          "state": {
            "_model_module": "@jupyter-widgets/base",
            "_model_module_version": "2.0.0",
            "_model_name": "LayoutModel",
            "_view_count": null,
            "_view_module": "@jupyter-widgets/base",
            "_view_module_version": "2.0.0",
            "_view_name": "LayoutView",
            "align_content": null,
            "align_items": null,
            "align_self": null,
            "border_bottom": null,
            "border_left": null,
            "border_right": null,
            "border_top": null,
            "bottom": null,
            "display": null,
            "flex": null,
            "flex_flow": null,
            "grid_area": null,
            "grid_auto_columns": null,
            "grid_auto_flow": null,
            "grid_auto_rows": null,
            "grid_column": null,
            "grid_gap": null,
            "grid_row": null,
            "grid_template_areas": null,
            "grid_template_columns": null,
            "grid_template_rows": null,
            "height": null,
            "justify_content": null,
            "justify_items": null,
            "left": null,
            "margin": null,
            "max_height": null,
            "max_width": null,
            "min_height": null,
            "min_width": null,
            "object_fit": null,
            "object_position": null,
            "order": null,
            "overflow": null,
            "padding": null,
            "right": null,
            "top": null,
            "visibility": null,
            "width": null
          }
        },
        "9711ed6badc34edd90ff77393f197966": {
          "model_module": "@jupyter-widgets/controls",
          "model_name": "HTMLStyleModel",
          "model_module_version": "2.0.0",
          "state": {
            "_model_module": "@jupyter-widgets/controls",
            "_model_module_version": "2.0.0",
            "_model_name": "HTMLStyleModel",
            "_view_count": null,
            "_view_module": "@jupyter-widgets/base",
            "_view_module_version": "2.0.0",
            "_view_name": "StyleView",
            "background": null,
            "description_width": "",
            "font_size": null,
            "text_color": null
          }
        },
        "363cb43d8b10438a8d2bfedfe8bef50a": {
          "model_module": "@jupyter-widgets/controls",
          "model_name": "HBoxModel",
          "model_module_version": "2.0.0",
          "state": {
            "_dom_classes": [],
            "_model_module": "@jupyter-widgets/controls",
            "_model_module_version": "2.0.0",
            "_model_name": "HBoxModel",
            "_view_count": null,
            "_view_module": "@jupyter-widgets/controls",
            "_view_module_version": "2.0.0",
            "_view_name": "HBoxView",
            "box_style": "",
            "children": [
              "IPY_MODEL_04091f22361f4949ab5008702df8feb0",
              "IPY_MODEL_ebe5cb4a523046c2977ee49ef2e70301",
              "IPY_MODEL_3e1f09a46c624b86bbcf603a343cef9c"
            ],
            "layout": "IPY_MODEL_98600f6a7be141589f0fba553364d5bd",
            "tabbable": null,
            "tooltip": null
          }
        },
        "04091f22361f4949ab5008702df8feb0": {
          "model_module": "@jupyter-widgets/controls",
          "model_name": "HTMLModel",
          "model_module_version": "2.0.0",
          "state": {
            "_dom_classes": [],
            "_model_module": "@jupyter-widgets/controls",
            "_model_module_version": "2.0.0",
            "_model_name": "HTMLModel",
            "_view_count": null,
            "_view_module": "@jupyter-widgets/controls",
            "_view_module_version": "2.0.0",
            "_view_name": "HTMLView",
            "description": "",
            "description_allow_html": false,
            "layout": "IPY_MODEL_5918d1ff619548d6a574b3e07ea1bdb5",
            "placeholder": "​",
            "style": "IPY_MODEL_28cedc5bd8054fea99b0a2c6095922b0",
            "tabbable": null,
            "tooltip": null,
            "value": "Downloading (…)solve/main/vocab.txt: 100%"
          }
        },
        "ebe5cb4a523046c2977ee49ef2e70301": {
          "model_module": "@jupyter-widgets/controls",
          "model_name": "FloatProgressModel",
          "model_module_version": "2.0.0",
          "state": {
            "_dom_classes": [],
            "_model_module": "@jupyter-widgets/controls",
            "_model_module_version": "2.0.0",
            "_model_name": "FloatProgressModel",
            "_view_count": null,
            "_view_module": "@jupyter-widgets/controls",
            "_view_module_version": "2.0.0",
            "_view_name": "ProgressView",
            "bar_style": "success",
            "description": "",
            "description_allow_html": false,
            "layout": "IPY_MODEL_202fadd6b7fd4b77a27b571efeb90b1a",
            "max": 1080667,
            "min": 0,
            "orientation": "horizontal",
            "style": "IPY_MODEL_a5362f65e8714770b3ffc2001b33cfb0",
            "tabbable": null,
            "tooltip": null,
            "value": 1080667
          }
        },
        "3e1f09a46c624b86bbcf603a343cef9c": {
          "model_module": "@jupyter-widgets/controls",
          "model_name": "HTMLModel",
          "model_module_version": "2.0.0",
          "state": {
            "_dom_classes": [],
            "_model_module": "@jupyter-widgets/controls",
            "_model_module_version": "2.0.0",
            "_model_name": "HTMLModel",
            "_view_count": null,
            "_view_module": "@jupyter-widgets/controls",
            "_view_module_version": "2.0.0",
            "_view_name": "HTMLView",
            "description": "",
            "description_allow_html": false,
            "layout": "IPY_MODEL_22d9ddd5e66749efaac7e4ac0f79d194",
            "placeholder": "​",
            "style": "IPY_MODEL_a2bcaaac06ab42059c65b9a9c3b3aa7e",
            "tabbable": null,
            "tooltip": null,
            "value": " 1.08M/1.08M [00:00&lt;00:00, 4.49MB/s]"
          }
        },
        "98600f6a7be141589f0fba553364d5bd": {
          "model_module": "@jupyter-widgets/base",
          "model_name": "LayoutModel",
          "model_module_version": "2.0.0",
          "state": {
            "_model_module": "@jupyter-widgets/base",
            "_model_module_version": "2.0.0",
            "_model_name": "LayoutModel",
            "_view_count": null,
            "_view_module": "@jupyter-widgets/base",
            "_view_module_version": "2.0.0",
            "_view_name": "LayoutView",
            "align_content": null,
            "align_items": null,
            "align_self": null,
            "border_bottom": null,
            "border_left": null,
            "border_right": null,
            "border_top": null,
            "bottom": null,
            "display": null,
            "flex": null,
            "flex_flow": null,
            "grid_area": null,
            "grid_auto_columns": null,
            "grid_auto_flow": null,
            "grid_auto_rows": null,
            "grid_column": null,
            "grid_gap": null,
            "grid_row": null,
            "grid_template_areas": null,
            "grid_template_columns": null,
            "grid_template_rows": null,
            "height": null,
            "justify_content": null,
            "justify_items": null,
            "left": null,
            "margin": null,
            "max_height": null,
            "max_width": null,
            "min_height": null,
            "min_width": null,
            "object_fit": null,
            "object_position": null,
            "order": null,
            "overflow": null,
            "padding": null,
            "right": null,
            "top": null,
            "visibility": null,
            "width": null
          }
        },
        "5918d1ff619548d6a574b3e07ea1bdb5": {
          "model_module": "@jupyter-widgets/base",
          "model_name": "LayoutModel",
          "model_module_version": "2.0.0",
          "state": {
            "_model_module": "@jupyter-widgets/base",
            "_model_module_version": "2.0.0",
            "_model_name": "LayoutModel",
            "_view_count": null,
            "_view_module": "@jupyter-widgets/base",
            "_view_module_version": "2.0.0",
            "_view_name": "LayoutView",
            "align_content": null,
            "align_items": null,
            "align_self": null,
            "border_bottom": null,
            "border_left": null,
            "border_right": null,
            "border_top": null,
            "bottom": null,
            "display": null,
            "flex": null,
            "flex_flow": null,
            "grid_area": null,
            "grid_auto_columns": null,
            "grid_auto_flow": null,
            "grid_auto_rows": null,
            "grid_column": null,
            "grid_gap": null,
            "grid_row": null,
            "grid_template_areas": null,
            "grid_template_columns": null,
            "grid_template_rows": null,
            "height": null,
            "justify_content": null,
            "justify_items": null,
            "left": null,
            "margin": null,
            "max_height": null,
            "max_width": null,
            "min_height": null,
            "min_width": null,
            "object_fit": null,
            "object_position": null,
            "order": null,
            "overflow": null,
            "padding": null,
            "right": null,
            "top": null,
            "visibility": null,
            "width": null
          }
        },
        "28cedc5bd8054fea99b0a2c6095922b0": {
          "model_module": "@jupyter-widgets/controls",
          "model_name": "HTMLStyleModel",
          "model_module_version": "2.0.0",
          "state": {
            "_model_module": "@jupyter-widgets/controls",
            "_model_module_version": "2.0.0",
            "_model_name": "HTMLStyleModel",
            "_view_count": null,
            "_view_module": "@jupyter-widgets/base",
            "_view_module_version": "2.0.0",
            "_view_name": "StyleView",
            "background": null,
            "description_width": "",
            "font_size": null,
            "text_color": null
          }
        },
        "202fadd6b7fd4b77a27b571efeb90b1a": {
          "model_module": "@jupyter-widgets/base",
          "model_name": "LayoutModel",
          "model_module_version": "2.0.0",
          "state": {
            "_model_module": "@jupyter-widgets/base",
            "_model_module_version": "2.0.0",
            "_model_name": "LayoutModel",
            "_view_count": null,
            "_view_module": "@jupyter-widgets/base",
            "_view_module_version": "2.0.0",
            "_view_name": "LayoutView",
            "align_content": null,
            "align_items": null,
            "align_self": null,
            "border_bottom": null,
            "border_left": null,
            "border_right": null,
            "border_top": null,
            "bottom": null,
            "display": null,
            "flex": null,
            "flex_flow": null,
            "grid_area": null,
            "grid_auto_columns": null,
            "grid_auto_flow": null,
            "grid_auto_rows": null,
            "grid_column": null,
            "grid_gap": null,
            "grid_row": null,
            "grid_template_areas": null,
            "grid_template_columns": null,
            "grid_template_rows": null,
            "height": null,
            "justify_content": null,
            "justify_items": null,
            "left": null,
            "margin": null,
            "max_height": null,
            "max_width": null,
            "min_height": null,
            "min_width": null,
            "object_fit": null,
            "object_position": null,
            "order": null,
            "overflow": null,
            "padding": null,
            "right": null,
            "top": null,
            "visibility": null,
            "width": null
          }
        },
        "a5362f65e8714770b3ffc2001b33cfb0": {
          "model_module": "@jupyter-widgets/controls",
          "model_name": "ProgressStyleModel",
          "model_module_version": "2.0.0",
          "state": {
            "_model_module": "@jupyter-widgets/controls",
            "_model_module_version": "2.0.0",
            "_model_name": "ProgressStyleModel",
            "_view_count": null,
            "_view_module": "@jupyter-widgets/base",
            "_view_module_version": "2.0.0",
            "_view_name": "StyleView",
            "bar_color": null,
            "description_width": ""
          }
        },
        "22d9ddd5e66749efaac7e4ac0f79d194": {
          "model_module": "@jupyter-widgets/base",
          "model_name": "LayoutModel",
          "model_module_version": "2.0.0",
          "state": {
            "_model_module": "@jupyter-widgets/base",
            "_model_module_version": "2.0.0",
            "_model_name": "LayoutModel",
            "_view_count": null,
            "_view_module": "@jupyter-widgets/base",
            "_view_module_version": "2.0.0",
            "_view_name": "LayoutView",
            "align_content": null,
            "align_items": null,
            "align_self": null,
            "border_bottom": null,
            "border_left": null,
            "border_right": null,
            "border_top": null,
            "bottom": null,
            "display": null,
            "flex": null,
            "flex_flow": null,
            "grid_area": null,
            "grid_auto_columns": null,
            "grid_auto_flow": null,
            "grid_auto_rows": null,
            "grid_column": null,
            "grid_gap": null,
            "grid_row": null,
            "grid_template_areas": null,
            "grid_template_columns": null,
            "grid_template_rows": null,
            "height": null,
            "justify_content": null,
            "justify_items": null,
            "left": null,
            "margin": null,
            "max_height": null,
            "max_width": null,
            "min_height": null,
            "min_width": null,
            "object_fit": null,
            "object_position": null,
            "order": null,
            "overflow": null,
            "padding": null,
            "right": null,
            "top": null,
            "visibility": null,
            "width": null
          }
        },
        "a2bcaaac06ab42059c65b9a9c3b3aa7e": {
          "model_module": "@jupyter-widgets/controls",
          "model_name": "HTMLStyleModel",
          "model_module_version": "2.0.0",
          "state": {
            "_model_module": "@jupyter-widgets/controls",
            "_model_module_version": "2.0.0",
            "_model_name": "HTMLStyleModel",
            "_view_count": null,
            "_view_module": "@jupyter-widgets/base",
            "_view_module_version": "2.0.0",
            "_view_name": "StyleView",
            "background": null,
            "description_width": "",
            "font_size": null,
            "text_color": null
          }
        },
        "b9da8df1c92c4cd5aa5e86efcaf6bbf3": {
          "model_module": "@jupyter-widgets/controls",
          "model_name": "HBoxModel",
          "model_module_version": "2.0.0",
          "state": {
            "_dom_classes": [],
            "_model_module": "@jupyter-widgets/controls",
            "_model_module_version": "2.0.0",
            "_model_name": "HBoxModel",
            "_view_count": null,
            "_view_module": "@jupyter-widgets/controls",
            "_view_module_version": "2.0.0",
            "_view_name": "HBoxView",
            "box_style": "",
            "children": [
              "IPY_MODEL_85247f8801b54da5b047003954931c0d",
              "IPY_MODEL_607d3f1931514dadb62805258071162d",
              "IPY_MODEL_9ca634af8778402d912be4414d840ce9"
            ],
            "layout": "IPY_MODEL_4570f55b589e43748d4bcce2c6953b3a",
            "tabbable": null,
            "tooltip": null
          }
        },
        "85247f8801b54da5b047003954931c0d": {
          "model_module": "@jupyter-widgets/controls",
          "model_name": "HTMLModel",
          "model_module_version": "2.0.0",
          "state": {
            "_dom_classes": [],
            "_model_module": "@jupyter-widgets/controls",
            "_model_module_version": "2.0.0",
            "_model_name": "HTMLModel",
            "_view_count": null,
            "_view_module": "@jupyter-widgets/controls",
            "_view_module_version": "2.0.0",
            "_view_name": "HTMLView",
            "description": "",
            "description_allow_html": false,
            "layout": "IPY_MODEL_f94c83dccd73427ca5f5ff7b751bc771",
            "placeholder": "​",
            "style": "IPY_MODEL_a45d5575f31b41d0ba4c2464732f8f7b",
            "tabbable": null,
            "tooltip": null,
            "value": "Downloading (…)cial_tokens_map.json: 100%"
          }
        },
        "607d3f1931514dadb62805258071162d": {
          "model_module": "@jupyter-widgets/controls",
          "model_name": "FloatProgressModel",
          "model_module_version": "2.0.0",
          "state": {
            "_dom_classes": [],
            "_model_module": "@jupyter-widgets/controls",
            "_model_module_version": "2.0.0",
            "_model_name": "FloatProgressModel",
            "_view_count": null,
            "_view_module": "@jupyter-widgets/controls",
            "_view_module_version": "2.0.0",
            "_view_name": "ProgressView",
            "bar_style": "success",
            "description": "",
            "description_allow_html": false,
            "layout": "IPY_MODEL_c427ffd092ab4a1281828ff9fa1f8a3e",
            "max": 112,
            "min": 0,
            "orientation": "horizontal",
            "style": "IPY_MODEL_9bcc2fd66cfc43299dfb902cb829087d",
            "tabbable": null,
            "tooltip": null,
            "value": 112
          }
        },
        "9ca634af8778402d912be4414d840ce9": {
          "model_module": "@jupyter-widgets/controls",
          "model_name": "HTMLModel",
          "model_module_version": "2.0.0",
          "state": {
            "_dom_classes": [],
            "_model_module": "@jupyter-widgets/controls",
            "_model_module_version": "2.0.0",
            "_model_name": "HTMLModel",
            "_view_count": null,
            "_view_module": "@jupyter-widgets/controls",
            "_view_module_version": "2.0.0",
            "_view_name": "HTMLView",
            "description": "",
            "description_allow_html": false,
            "layout": "IPY_MODEL_526d39fee51b4977ba438f94d3ce40bb",
            "placeholder": "​",
            "style": "IPY_MODEL_1d113f007db94b4296badf3f4a85f4e1",
            "tabbable": null,
            "tooltip": null,
            "value": " 112/112 [00:00&lt;00:00, 11.2kB/s]"
          }
        },
        "4570f55b589e43748d4bcce2c6953b3a": {
          "model_module": "@jupyter-widgets/base",
          "model_name": "LayoutModel",
          "model_module_version": "2.0.0",
          "state": {
            "_model_module": "@jupyter-widgets/base",
            "_model_module_version": "2.0.0",
            "_model_name": "LayoutModel",
            "_view_count": null,
            "_view_module": "@jupyter-widgets/base",
            "_view_module_version": "2.0.0",
            "_view_name": "LayoutView",
            "align_content": null,
            "align_items": null,
            "align_self": null,
            "border_bottom": null,
            "border_left": null,
            "border_right": null,
            "border_top": null,
            "bottom": null,
            "display": null,
            "flex": null,
            "flex_flow": null,
            "grid_area": null,
            "grid_auto_columns": null,
            "grid_auto_flow": null,
            "grid_auto_rows": null,
            "grid_column": null,
            "grid_gap": null,
            "grid_row": null,
            "grid_template_areas": null,
            "grid_template_columns": null,
            "grid_template_rows": null,
            "height": null,
            "justify_content": null,
            "justify_items": null,
            "left": null,
            "margin": null,
            "max_height": null,
            "max_width": null,
            "min_height": null,
            "min_width": null,
            "object_fit": null,
            "object_position": null,
            "order": null,
            "overflow": null,
            "padding": null,
            "right": null,
            "top": null,
            "visibility": null,
            "width": null
          }
        },
        "f94c83dccd73427ca5f5ff7b751bc771": {
          "model_module": "@jupyter-widgets/base",
          "model_name": "LayoutModel",
          "model_module_version": "2.0.0",
          "state": {
            "_model_module": "@jupyter-widgets/base",
            "_model_module_version": "2.0.0",
            "_model_name": "LayoutModel",
            "_view_count": null,
            "_view_module": "@jupyter-widgets/base",
            "_view_module_version": "2.0.0",
            "_view_name": "LayoutView",
            "align_content": null,
            "align_items": null,
            "align_self": null,
            "border_bottom": null,
            "border_left": null,
            "border_right": null,
            "border_top": null,
            "bottom": null,
            "display": null,
            "flex": null,
            "flex_flow": null,
            "grid_area": null,
            "grid_auto_columns": null,
            "grid_auto_flow": null,
            "grid_auto_rows": null,
            "grid_column": null,
            "grid_gap": null,
            "grid_row": null,
            "grid_template_areas": null,
            "grid_template_columns": null,
            "grid_template_rows": null,
            "height": null,
            "justify_content": null,
            "justify_items": null,
            "left": null,
            "margin": null,
            "max_height": null,
            "max_width": null,
            "min_height": null,
            "min_width": null,
            "object_fit": null,
            "object_position": null,
            "order": null,
            "overflow": null,
            "padding": null,
            "right": null,
            "top": null,
            "visibility": null,
            "width": null
          }
        },
        "a45d5575f31b41d0ba4c2464732f8f7b": {
          "model_module": "@jupyter-widgets/controls",
          "model_name": "HTMLStyleModel",
          "model_module_version": "2.0.0",
          "state": {
            "_model_module": "@jupyter-widgets/controls",
            "_model_module_version": "2.0.0",
            "_model_name": "HTMLStyleModel",
            "_view_count": null,
            "_view_module": "@jupyter-widgets/base",
            "_view_module_version": "2.0.0",
            "_view_name": "StyleView",
            "background": null,
            "description_width": "",
            "font_size": null,
            "text_color": null
          }
        },
        "c427ffd092ab4a1281828ff9fa1f8a3e": {
          "model_module": "@jupyter-widgets/base",
          "model_name": "LayoutModel",
          "model_module_version": "2.0.0",
          "state": {
            "_model_module": "@jupyter-widgets/base",
            "_model_module_version": "2.0.0",
            "_model_name": "LayoutModel",
            "_view_count": null,
            "_view_module": "@jupyter-widgets/base",
            "_view_module_version": "2.0.0",
            "_view_name": "LayoutView",
            "align_content": null,
            "align_items": null,
            "align_self": null,
            "border_bottom": null,
            "border_left": null,
            "border_right": null,
            "border_top": null,
            "bottom": null,
            "display": null,
            "flex": null,
            "flex_flow": null,
            "grid_area": null,
            "grid_auto_columns": null,
            "grid_auto_flow": null,
            "grid_auto_rows": null,
            "grid_column": null,
            "grid_gap": null,
            "grid_row": null,
            "grid_template_areas": null,
            "grid_template_columns": null,
            "grid_template_rows": null,
            "height": null,
            "justify_content": null,
            "justify_items": null,
            "left": null,
            "margin": null,
            "max_height": null,
            "max_width": null,
            "min_height": null,
            "min_width": null,
            "object_fit": null,
            "object_position": null,
            "order": null,
            "overflow": null,
            "padding": null,
            "right": null,
            "top": null,
            "visibility": null,
            "width": null
          }
        },
        "9bcc2fd66cfc43299dfb902cb829087d": {
          "model_module": "@jupyter-widgets/controls",
          "model_name": "ProgressStyleModel",
          "model_module_version": "2.0.0",
          "state": {
            "_model_module": "@jupyter-widgets/controls",
            "_model_module_version": "2.0.0",
            "_model_name": "ProgressStyleModel",
            "_view_count": null,
            "_view_module": "@jupyter-widgets/base",
            "_view_module_version": "2.0.0",
            "_view_name": "StyleView",
            "bar_color": null,
            "description_width": ""
          }
        },
        "526d39fee51b4977ba438f94d3ce40bb": {
          "model_module": "@jupyter-widgets/base",
          "model_name": "LayoutModel",
          "model_module_version": "2.0.0",
          "state": {
            "_model_module": "@jupyter-widgets/base",
            "_model_module_version": "2.0.0",
            "_model_name": "LayoutModel",
            "_view_count": null,
            "_view_module": "@jupyter-widgets/base",
            "_view_module_version": "2.0.0",
            "_view_name": "LayoutView",
            "align_content": null,
            "align_items": null,
            "align_self": null,
            "border_bottom": null,
            "border_left": null,
            "border_right": null,
            "border_top": null,
            "bottom": null,
            "display": null,
            "flex": null,
            "flex_flow": null,
            "grid_area": null,
            "grid_auto_columns": null,
            "grid_auto_flow": null,
            "grid_auto_rows": null,
            "grid_column": null,
            "grid_gap": null,
            "grid_row": null,
            "grid_template_areas": null,
            "grid_template_columns": null,
            "grid_template_rows": null,
            "height": null,
            "justify_content": null,
            "justify_items": null,
            "left": null,
            "margin": null,
            "max_height": null,
            "max_width": null,
            "min_height": null,
            "min_width": null,
            "object_fit": null,
            "object_position": null,
            "order": null,
            "overflow": null,
            "padding": null,
            "right": null,
            "top": null,
            "visibility": null,
            "width": null
          }
        },
        "1d113f007db94b4296badf3f4a85f4e1": {
          "model_module": "@jupyter-widgets/controls",
          "model_name": "HTMLStyleModel",
          "model_module_version": "2.0.0",
          "state": {
            "_model_module": "@jupyter-widgets/controls",
            "_model_module_version": "2.0.0",
            "_model_name": "HTMLStyleModel",
            "_view_count": null,
            "_view_module": "@jupyter-widgets/base",
            "_view_module_version": "2.0.0",
            "_view_name": "StyleView",
            "background": null,
            "description_width": "",
            "font_size": null,
            "text_color": null
          }
        },
        "aa5f75dafaaf4e49ac6b5c0cf6ca71da": {
          "model_module": "@jupyter-widgets/controls",
          "model_name": "HBoxModel",
          "model_module_version": "2.0.0",
          "state": {
            "_dom_classes": [],
            "_model_module": "@jupyter-widgets/controls",
            "_model_module_version": "2.0.0",
            "_model_name": "HBoxModel",
            "_view_count": null,
            "_view_module": "@jupyter-widgets/controls",
            "_view_module_version": "2.0.0",
            "_view_name": "HBoxView",
            "box_style": "",
            "children": [
              "IPY_MODEL_db0258da9e8d4ce98fe0dd8335c4db2f",
              "IPY_MODEL_f4b1dfbf514a49da91ca77803f12caaf",
              "IPY_MODEL_98b170bb9eaa4fe38ff5e726daabfe4f"
            ],
            "layout": "IPY_MODEL_e4dc7b3d98154f40a90882c45af18895",
            "tabbable": null,
            "tooltip": null
          }
        },
        "db0258da9e8d4ce98fe0dd8335c4db2f": {
          "model_module": "@jupyter-widgets/controls",
          "model_name": "HTMLModel",
          "model_module_version": "2.0.0",
          "state": {
            "_dom_classes": [],
            "_model_module": "@jupyter-widgets/controls",
            "_model_module_version": "2.0.0",
            "_model_name": "HTMLModel",
            "_view_count": null,
            "_view_module": "@jupyter-widgets/controls",
            "_view_module_version": "2.0.0",
            "_view_name": "HTMLView",
            "description": "",
            "description_allow_html": false,
            "layout": "IPY_MODEL_fa86c1e3e6584818aca3419f4d80603a",
            "placeholder": "​",
            "style": "IPY_MODEL_45a57fd67b24493cbb1929431b74a98c",
            "tabbable": null,
            "tooltip": null,
            "value": "Downloading (…)okenizer_config.json: 100%"
          }
        },
        "f4b1dfbf514a49da91ca77803f12caaf": {
          "model_module": "@jupyter-widgets/controls",
          "model_name": "FloatProgressModel",
          "model_module_version": "2.0.0",
          "state": {
            "_dom_classes": [],
            "_model_module": "@jupyter-widgets/controls",
            "_model_module_version": "2.0.0",
            "_model_name": "FloatProgressModel",
            "_view_count": null,
            "_view_module": "@jupyter-widgets/controls",
            "_view_module_version": "2.0.0",
            "_view_name": "ProgressView",
            "bar_style": "success",
            "description": "",
            "description_allow_html": false,
            "layout": "IPY_MODEL_469959b7efa9489baf279f12a6b3e3da",
            "max": 401,
            "min": 0,
            "orientation": "horizontal",
            "style": "IPY_MODEL_50e88b7c666e4a22bcc73de0fbeff609",
            "tabbable": null,
            "tooltip": null,
            "value": 401
          }
        },
        "98b170bb9eaa4fe38ff5e726daabfe4f": {
          "model_module": "@jupyter-widgets/controls",
          "model_name": "HTMLModel",
          "model_module_version": "2.0.0",
          "state": {
            "_dom_classes": [],
            "_model_module": "@jupyter-widgets/controls",
            "_model_module_version": "2.0.0",
            "_model_name": "HTMLModel",
            "_view_count": null,
            "_view_module": "@jupyter-widgets/controls",
            "_view_module_version": "2.0.0",
            "_view_name": "HTMLView",
            "description": "",
            "description_allow_html": false,
            "layout": "IPY_MODEL_5f2db8c6bc3c4fbda408e9178554e489",
            "placeholder": "​",
            "style": "IPY_MODEL_0e424469d6674af091220fc4cdb3ceb8",
            "tabbable": null,
            "tooltip": null,
            "value": " 401/401 [00:00&lt;00:00, 19.2kB/s]"
          }
        },
        "e4dc7b3d98154f40a90882c45af18895": {
          "model_module": "@jupyter-widgets/base",
          "model_name": "LayoutModel",
          "model_module_version": "2.0.0",
          "state": {
            "_model_module": "@jupyter-widgets/base",
            "_model_module_version": "2.0.0",
            "_model_name": "LayoutModel",
            "_view_count": null,
            "_view_module": "@jupyter-widgets/base",
            "_view_module_version": "2.0.0",
            "_view_name": "LayoutView",
            "align_content": null,
            "align_items": null,
            "align_self": null,
            "border_bottom": null,
            "border_left": null,
            "border_right": null,
            "border_top": null,
            "bottom": null,
            "display": null,
            "flex": null,
            "flex_flow": null,
            "grid_area": null,
            "grid_auto_columns": null,
            "grid_auto_flow": null,
            "grid_auto_rows": null,
            "grid_column": null,
            "grid_gap": null,
            "grid_row": null,
            "grid_template_areas": null,
            "grid_template_columns": null,
            "grid_template_rows": null,
            "height": null,
            "justify_content": null,
            "justify_items": null,
            "left": null,
            "margin": null,
            "max_height": null,
            "max_width": null,
            "min_height": null,
            "min_width": null,
            "object_fit": null,
            "object_position": null,
            "order": null,
            "overflow": null,
            "padding": null,
            "right": null,
            "top": null,
            "visibility": null,
            "width": null
          }
        },
        "fa86c1e3e6584818aca3419f4d80603a": {
          "model_module": "@jupyter-widgets/base",
          "model_name": "LayoutModel",
          "model_module_version": "2.0.0",
          "state": {
            "_model_module": "@jupyter-widgets/base",
            "_model_module_version": "2.0.0",
            "_model_name": "LayoutModel",
            "_view_count": null,
            "_view_module": "@jupyter-widgets/base",
            "_view_module_version": "2.0.0",
            "_view_name": "LayoutView",
            "align_content": null,
            "align_items": null,
            "align_self": null,
            "border_bottom": null,
            "border_left": null,
            "border_right": null,
            "border_top": null,
            "bottom": null,
            "display": null,
            "flex": null,
            "flex_flow": null,
            "grid_area": null,
            "grid_auto_columns": null,
            "grid_auto_flow": null,
            "grid_auto_rows": null,
            "grid_column": null,
            "grid_gap": null,
            "grid_row": null,
            "grid_template_areas": null,
            "grid_template_columns": null,
            "grid_template_rows": null,
            "height": null,
            "justify_content": null,
            "justify_items": null,
            "left": null,
            "margin": null,
            "max_height": null,
            "max_width": null,
            "min_height": null,
            "min_width": null,
            "object_fit": null,
            "object_position": null,
            "order": null,
            "overflow": null,
            "padding": null,
            "right": null,
            "top": null,
            "visibility": null,
            "width": null
          }
        },
        "45a57fd67b24493cbb1929431b74a98c": {
          "model_module": "@jupyter-widgets/controls",
          "model_name": "HTMLStyleModel",
          "model_module_version": "2.0.0",
          "state": {
            "_model_module": "@jupyter-widgets/controls",
            "_model_module_version": "2.0.0",
            "_model_name": "HTMLStyleModel",
            "_view_count": null,
            "_view_module": "@jupyter-widgets/base",
            "_view_module_version": "2.0.0",
            "_view_name": "StyleView",
            "background": null,
            "description_width": "",
            "font_size": null,
            "text_color": null
          }
        },
        "469959b7efa9489baf279f12a6b3e3da": {
          "model_module": "@jupyter-widgets/base",
          "model_name": "LayoutModel",
          "model_module_version": "2.0.0",
          "state": {
            "_model_module": "@jupyter-widgets/base",
            "_model_module_version": "2.0.0",
            "_model_name": "LayoutModel",
            "_view_count": null,
            "_view_module": "@jupyter-widgets/base",
            "_view_module_version": "2.0.0",
            "_view_name": "LayoutView",
            "align_content": null,
            "align_items": null,
            "align_self": null,
            "border_bottom": null,
            "border_left": null,
            "border_right": null,
            "border_top": null,
            "bottom": null,
            "display": null,
            "flex": null,
            "flex_flow": null,
            "grid_area": null,
            "grid_auto_columns": null,
            "grid_auto_flow": null,
            "grid_auto_rows": null,
            "grid_column": null,
            "grid_gap": null,
            "grid_row": null,
            "grid_template_areas": null,
            "grid_template_columns": null,
            "grid_template_rows": null,
            "height": null,
            "justify_content": null,
            "justify_items": null,
            "left": null,
            "margin": null,
            "max_height": null,
            "max_width": null,
            "min_height": null,
            "min_width": null,
            "object_fit": null,
            "object_position": null,
            "order": null,
            "overflow": null,
            "padding": null,
            "right": null,
            "top": null,
            "visibility": null,
            "width": null
          }
        },
        "50e88b7c666e4a22bcc73de0fbeff609": {
          "model_module": "@jupyter-widgets/controls",
          "model_name": "ProgressStyleModel",
          "model_module_version": "2.0.0",
          "state": {
            "_model_module": "@jupyter-widgets/controls",
            "_model_module_version": "2.0.0",
            "_model_name": "ProgressStyleModel",
            "_view_count": null,
            "_view_module": "@jupyter-widgets/base",
            "_view_module_version": "2.0.0",
            "_view_name": "StyleView",
            "bar_color": null,
            "description_width": ""
          }
        },
        "5f2db8c6bc3c4fbda408e9178554e489": {
          "model_module": "@jupyter-widgets/base",
          "model_name": "LayoutModel",
          "model_module_version": "2.0.0",
          "state": {
            "_model_module": "@jupyter-widgets/base",
            "_model_module_version": "2.0.0",
            "_model_name": "LayoutModel",
            "_view_count": null,
            "_view_module": "@jupyter-widgets/base",
            "_view_module_version": "2.0.0",
            "_view_name": "LayoutView",
            "align_content": null,
            "align_items": null,
            "align_self": null,
            "border_bottom": null,
            "border_left": null,
            "border_right": null,
            "border_top": null,
            "bottom": null,
            "display": null,
            "flex": null,
            "flex_flow": null,
            "grid_area": null,
            "grid_auto_columns": null,
            "grid_auto_flow": null,
            "grid_auto_rows": null,
            "grid_column": null,
            "grid_gap": null,
            "grid_row": null,
            "grid_template_areas": null,
            "grid_template_columns": null,
            "grid_template_rows": null,
            "height": null,
            "justify_content": null,
            "justify_items": null,
            "left": null,
            "margin": null,
            "max_height": null,
            "max_width": null,
            "min_height": null,
            "min_width": null,
            "object_fit": null,
            "object_position": null,
            "order": null,
            "overflow": null,
            "padding": null,
            "right": null,
            "top": null,
            "visibility": null,
            "width": null
          }
        },
        "0e424469d6674af091220fc4cdb3ceb8": {
          "model_module": "@jupyter-widgets/controls",
          "model_name": "HTMLStyleModel",
          "model_module_version": "2.0.0",
          "state": {
            "_model_module": "@jupyter-widgets/controls",
            "_model_module_version": "2.0.0",
            "_model_name": "HTMLStyleModel",
            "_view_count": null,
            "_view_module": "@jupyter-widgets/base",
            "_view_module_version": "2.0.0",
            "_view_name": "StyleView",
            "background": null,
            "description_width": "",
            "font_size": null,
            "text_color": null
          }
        }
      }
    }
  },
  "nbformat": 4,
  "nbformat_minor": 0
}